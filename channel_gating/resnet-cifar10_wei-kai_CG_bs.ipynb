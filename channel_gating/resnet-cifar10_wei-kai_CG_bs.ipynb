{
  "cells": [
    {
      "cell_type": "markdown",
      "metadata": {},
      "source": [
        "# Apply Channel Gating & Batch Shaping on ResNet-20 and CIFAR-10\n",
        "\n",
        "In this project, we use the ResNets model to perform image classification on CIFAR-10. CIFAR-10 orginally contains 60K images from 10 categories. We split it into 45K/5K/10K images to serve as train/valiation/test set. We only have the ground-truth labels of training/validation dataset."
      ]
    },
    {
      "cell_type": "markdown",
      "metadata": {},
      "source": [
        "## Step 1: Set up the ResNets model"
      ]
    },
    {
      "cell_type": "code",
      "execution_count": 52,
      "metadata": {},
      "outputs": [
        {
          "data": {
            "text/plain": [
              "<torch._C.Generator at 0x7fe276b121c8>"
            ]
          },
          "execution_count": 52,
          "metadata": {},
          "output_type": "execute_result"
        }
      ],
      "source": [
        "# import necessary dependencies\n",
        "import argparse\n",
        "import os, sys\n",
        "import time\n",
        "import datetime\n",
        "from tqdm import tqdm_notebook as tqdm\n",
        "\n",
        "import torch\n",
        "import torch.nn as nn\n",
        "import torch.nn.functional as F\n",
        "\n",
        "import torch.distributions.gumbel as gm\n",
        "\n",
        "torch.random.manual_seed(6)"
      ]
    },
    {
      "cell_type": "markdown",
      "metadata": {},
      "source": [
        "### 1.1 Implement the gating module\n",
        "Here is the gating module, a convolution kernel selector. We will apply this in each of the residual blocks for ResNet-20."
      ]
    },
    {
      "cell_type": "code",
      "execution_count": 53,
      "metadata": {},
      "outputs": [],
      "source": [
        "# Define the Gate module\n",
        "class Gate(nn.Module):\n",
        "    def __init__(self, in_channel, out_channel) -> None:\n",
        "        super().__init__()\n",
        "        self.avg_pool = nn.AdaptiveAvgPool2d(output_size=(1, 1))\n",
        "        self.fc1 = nn.Linear(in_features=in_channel, out_features=16)\n",
        "        self.fc2 = nn.Linear(in_features=16, out_features=out_channel)\n",
        "        self.bn = nn.BatchNorm1d(num_features=16)\n",
        "\n",
        "    def forward(self, x):\n",
        "        x = self.avg_pool(x)\n",
        "        x = torch.squeeze(x)\n",
        "        x = self.fc1(x)\n",
        "        x = self.bn(x)\n",
        "        x = F.relu(x)\n",
        "        x = self.fc2(x)\n",
        "\n",
        "        # apply i.i.d. Gumbel samples\n",
        "        # TRUE Gumbel: Turn logits into binary vector\n",
        "        pi = torch.exp(x) # hat{pi} = ln(pi), hat{pi} is output of fc2\n",
        "        x = F.gumbel_softmax(pi, tau=2/3, hard=True) \n",
        "\n",
        "        return x"
      ]
    },
    {
      "cell_type": "markdown",
      "metadata": {},
      "source": [
        "### 1.2 Setup ResNet model\n",
        "\n",
        "The ResNet-20 model is built hierarchically, and the gating modules are applied to residual blocks."
      ]
    },
    {
      "cell_type": "code",
      "execution_count": 54,
      "metadata": {},
      "outputs": [],
      "source": [
        "# define the ResNets mode;\n",
        "class BasicBlock(nn.Module):\n",
        "    expansion = 4\n",
        "    def __init__(self,input1,output,kernel,s,downsample=None):\n",
        "        super(BasicBlock,self).__init__()\n",
        "        self.conv1 = nn.Conv2d(input1,output,kernel,stride =s ,padding = 1)\n",
        "        self.conv1bn = nn.BatchNorm2d(output)\n",
        "        self.conv2 = nn.Conv2d(output,output,kernel,stride =1 ,padding = 1)\n",
        "        self.conv2bn = nn.BatchNorm2d(output)\n",
        "        self.shortcut = nn.Sequential()\n",
        "        self.out_filter = output\n",
        "        self.stride = s\n",
        "        self.downsample = downsample\n",
        "\n",
        "        # Channel gating module\n",
        "        self.gate = Gate(input1, output)\n",
        "    def forward(self,x):\n",
        "        # Process selection information from the inputs\n",
        "        gate_out = self.gate(x)\n",
        "\n",
        "        out = self.conv1(x)\n",
        "        out = F.relu(self.conv1bn(out))\n",
        "        \n",
        "        # Apply channel gating\n",
        "        gate_out = torch.squeeze(gate_out)\n",
        "\n",
        "        # # For-loop implementation is straight-forward but too slow\n",
        "        # for i in range(gate_out.shape[0]): # Run over a batch\n",
        "        #     for j in range(gate_out.shape[1]): # Run through channels\n",
        "        #         if gate_out[i][j].item() == 0:\n",
        "        #             out[i][j] = 0 # Erase the whole channel\n",
        "        #             pass\n",
        "\n",
        "        # Adjust gate dimension to accelerate tensor masking\n",
        "        # Unsqueeze: add another dimension\n",
        "        # Repeat: extend that dimension, fill with same value\n",
        "        with torch.no_grad():\n",
        "            gate_out = gate_out.unsqueeze(-1).repeat(1, 1, out.shape[2])\n",
        "            gate_out = gate_out.unsqueeze(-1).repeat(1, 1, 1, out.shape[3])\n",
        "        # Apply channel gating\n",
        "        out = out * gate_out\n",
        "\n",
        "        out = self.conv2(out)\n",
        "        # if self.stride != 1:\n",
        "        #     x = F.pad(x[:, :, ::2, ::2], [0, 0, 0, 0, self.out_filter // 4, self.out_filter // 4], \"constant\", 0)\n",
        "        residual = x\n",
        "        if self.downsample:\n",
        "            residual = self.downsample(x)\n",
        "    \n",
        "        out = self.conv2bn(out) + residual\n",
        "#         out = out+x\n",
        "        out = F.relu(out)\n",
        "        return out\n",
        "class ResNets(nn.Module):\n",
        "    def __init__(self):\n",
        "        super(ResNets,self).__init__()\n",
        "        self.conv1 = nn.Conv2d(3,16,3,stride =1 ,padding = 1)\n",
        "        self.block1 = self.make_layers(3,16,16,3,1)\n",
        "        self.block2 = self.make_layers(3,16,32,3,2)\n",
        "        self.block3 = self.make_layers(3,32,64,3,2)\n",
        "        self.fc = nn.Linear(64,10)\n",
        "    def make_layers(self, num_block, input1, output,kernel, s):\n",
        "        layers = []\n",
        "        downsample = None\n",
        "        if s != 1 or input1 != output:\n",
        "            downsample = nn.Sequential(nn.Conv2d(input1, output, kernel, stride=s,padding=1),\n",
        "                nn.BatchNorm2d(output))\n",
        "        for i in range(num_block):\n",
        "            if i == 0:\n",
        "                layers.append(BasicBlock(input1, output,kernel, s,downsample))\n",
        "            else:\n",
        "                layers.append(BasicBlock(output, output,kernel, 1))\n",
        "        return nn.Sequential(*layers)\n",
        "    def forward(self, x):\n",
        "        out = F.relu(self.conv1(x))\n",
        "        out = self.block1(out)\n",
        "        out = self.block2(out)\n",
        "        out = self.block3(out)\n",
        "        out = F.avg_pool2d(out,out.size()[3])\n",
        "        out = out.view(out.size(0), -1)\n",
        "        out = self.fc(out)\n",
        "\n",
        "        return out"
      ]
    },
    {
      "cell_type": "markdown",
      "metadata": {},
      "source": [
        "## Step 2: Setup the training environment"
      ]
    },
    {
      "cell_type": "markdown",
      "metadata": {},
      "source": [
        "### 2.1 Set up preprocessing functions"
      ]
    },
    {
      "cell_type": "code",
      "execution_count": 55,
      "metadata": {},
      "outputs": [],
      "source": [
        "# useful libraries\n",
        "import torchvision\n",
        "import torchvision.transforms as transforms\n",
        "\n",
        "#############################################\n",
        "# your code here\n",
        "# specify preprocessing function\n",
        "transform_train = transforms.Compose([\n",
        "    transforms.RandomHorizontalFlip(),\n",
        "    transforms.RandomCrop(size=(32,32),padding = 4),\n",
        "    transforms.ToTensor(),\n",
        "    transforms.Normalize((0.4914, 0.4822, 0.4465), (0.2023, 0.1994, 0.2010))\n",
        "])\n",
        "\n",
        "transform_val = transforms.Compose([\n",
        "    transforms.ToTensor(),\n",
        "    transforms.Normalize((0.4914, 0.4822, 0.4465), (0.2023, 0.1994, 0.2010)),\n",
        "])\n",
        "#############################################"
      ]
    },
    {
      "cell_type": "markdown",
      "metadata": {},
      "source": [
        "### 2.2 Set up dataset and dataloader"
      ]
    },
    {
      "cell_type": "code",
      "execution_count": 56,
      "metadata": {},
      "outputs": [
        {
          "name": "stdout",
          "output_type": "stream",
          "text": [
            "Using downloaded and verified file: ./data/cifar10_trainval_F21.zip\n",
            "Extracting ./data/cifar10_trainval_F21.zip to ./data\n",
            "Files already downloaded and verified\n",
            "Using downloaded and verified file: ./data/cifar10_trainval_F21.zip\n",
            "Extracting ./data/cifar10_trainval_F21.zip to ./data\n",
            "Files already downloaded and verified\n",
            "Using downloaded and verified file: ./data/cifar10_test_F21.zip\n",
            "Extracting ./data/cifar10_test_F21.zip to ./data\n",
            "Files already downloaded and verified\n",
            "45000\n",
            "iter num  450\n"
          ]
        }
      ],
      "source": [
        "# do NOT change these\n",
        "from tools.dataset import CIFAR10\n",
        "from torch.utils.data import DataLoader\n",
        "\n",
        "# a few arguments, do NOT change these\n",
        "DATA_ROOT = \"./data\"\n",
        "TRAIN_BATCH_SIZE = 100\n",
        "VAL_BATCH_SIZE = 100\n",
        "\n",
        "#############################################\n",
        "# your code here\n",
        "from torchvision.transforms import ToTensor\n",
        "# construct dataset\n",
        "train_set = CIFAR10(\n",
        "    root=DATA_ROOT, \n",
        "    mode='train', \n",
        "    download=True,\n",
        "    transform=transform_train    # your code\n",
        ")\n",
        "val_set = CIFAR10(\n",
        "    root=DATA_ROOT, \n",
        "    mode='val', \n",
        "    download=True,\n",
        "    transform=transform_val     # your code\n",
        ")\n",
        "test_set = CIFAR10(\n",
        "    root=DATA_ROOT, \n",
        "    mode='test', \n",
        "    download=True,\n",
        "    transform=transform_val\n",
        ")\n",
        "# construct dataloader\n",
        "train_loader = DataLoader(\n",
        "    train_set, \n",
        "    batch_size=TRAIN_BATCH_SIZE,  # your code\n",
        "    shuffle=True,     # your code\n",
        "    num_workers=4\n",
        ")\n",
        "print(len(train_set))\n",
        "print(\"iter num \" ,len(train_loader))\n",
        "val_loader = DataLoader(\n",
        "    val_set, \n",
        "    batch_size=VAL_BATCH_SIZE,  # your code\n",
        "    shuffle= True,     # your code\n",
        "    num_workers=4\n",
        ")\n",
        "test_loader = DataLoader(\n",
        "    test_set, batch_size=100, shuffle=False, num_workers=1)\n",
        "#############################################"
      ]
    },
    {
      "cell_type": "markdown",
      "metadata": {},
      "source": [
        "### 2.3 Instantiate your ResNets model and deploy it to GPU devices.\n"
      ]
    },
    {
      "cell_type": "code",
      "execution_count": 57,
      "metadata": {},
      "outputs": [
        {
          "name": "stdout",
          "output_type": "stream",
          "text": [
            "Using device: cuda:1\n"
          ]
        }
      ],
      "source": [
        "# specify the device for computation\n",
        "#############################################\n",
        "# your code here\n",
        "device = 'cuda:1' if torch.cuda.is_available() else 'cpu'\n",
        "# Model Definition  \n",
        "net = ResNets()\n",
        "net = net.to(device)\n",
        "print('Using device:', device)\n",
        "# nvidia-smi\n",
        "#############################################"
      ]
    },
    {
      "cell_type": "markdown",
      "metadata": {},
      "source": [
        "### 2.4 Set up the loss function and optimizer"
      ]
    },
    {
      "cell_type": "code",
      "execution_count": 58,
      "metadata": {},
      "outputs": [],
      "source": [
        "import torch.nn as nn\n",
        "import numpy as np\n",
        "import torch.optim as optim\n",
        "from torch.optim.lr_scheduler import ReduceLROnPlateau\n",
        "from torch.optim.lr_scheduler import MultiStepLR\n",
        "# hyperparameters\n",
        "# initial learning rat\n",
        "INITIAL_LR = 0.1\n",
        "\n",
        "# momentum for optimizer\n",
        "MOMENTUM = 0.9\n",
        "\n",
        "# L2 regularization strength\n",
        "REG = 1e-4\n",
        "# REG = 5e-4\n",
        "\n",
        "# create loss function\n",
        "criterion = nn.CrossEntropyLoss()\n",
        "\n",
        "# Add optimizer\n",
        "optimizer = optim.SGD(net.parameters(), lr=INITIAL_LR, momentum=MOMENTUM,weight_decay=REG,nesterov=True)\n",
        "scheduler = ReduceLROnPlateau(optimizer, factor=0.1,threshold = 1e-4,patience=8, verbose=True)\n",
        "# Scheduler based on the paper \"Batch shaping\" for cifar-10 with ResNet-20\n",
        "# scheduler = MultiStepLR(optimizer, milestones=[300, 375, 450], gamma=0.1)"
      ]
    },
    {
      "cell_type": "markdown",
      "metadata": {},
      "source": [
        "## Step 3: Setup batch shaping (BS) loss function\n",
        "\n",
        "The BS loss help train the gating module to more conditionally select the filters.\n",
        "BS loss is computed by matching the gate selection to the beta distribution."
      ]
    },
    {
      "cell_type": "code",
      "execution_count": 59,
      "metadata": {},
      "outputs": [],
      "source": [
        "from scipy.stats import beta as sci_beta\n",
        "\n",
        "# Loss stregth from the paper, alpha, beta from wiki\n",
        "GAMMA=0.75\n",
        "ALPHA=0.5\n",
        "BETA=ALPHA"
      ]
    },
    {
      "cell_type": "code",
      "execution_count": 60,
      "metadata": {},
      "outputs": [],
      "source": [
        "# Customized loss function: Batch shaping loss\n",
        "\n",
        "class Batch_Shaping_Loss(torch.autograd.Function):\n",
        "    @staticmethod\n",
        "    def forward(ctx, x, gamma, alpha, beta, batch_size):\n",
        "        '''\n",
        "        Batch shaping loss\n",
        "        @brief A function compute batch shaping loss based on beta CDF\n",
        "        @param x: gating output\n",
        "        @param gamma: loss factor\n",
        "        @param alpha, beta: Beta distribution parameters\n",
        "        @param batch_size: batch size\n",
        "        @reutrn loss: batch shaping loss\n",
        "        '''\n",
        "        loss = 0\n",
        "        loss = torch.autograd.Variable(torch.tensor(loss))\n",
        "        x_dup = x.clone().detach().cpu().numpy()\n",
        "        p_cdf_list = []\n",
        "        p_pdf_list = []\n",
        "        e_cdf_list = []\n",
        "        x_idx_list = []\n",
        "        \n",
        "        for i in range(x.shape[0]):\n",
        "            x_sort = np.sort(x_dup[i].flatten()) # TODO: Check for dimension correctness\n",
        "            x_idx = np.argsort(x_dup[i].flatten())\n",
        "            p_cdf = sci_beta.cdf(x_sort, alpha, beta)\n",
        "            e_cdf = np.linspace(1, 1+batch_size, 1) / (batch_size+1)\n",
        "            loss = loss + np.sum(np.power(e_cdf - p_cdf, 2)).item()\n",
        "            \n",
        "            \n",
        "            # Store for backward\n",
        "            p_pdf = sci_beta.pdf(x_sort, alpha, beta)\n",
        "            \n",
        "            p_cdf_list.append(torch.tensor(p_cdf))\n",
        "            p_pdf_list.append(torch.tensor(p_pdf))\n",
        "            e_cdf_list.append(torch.tensor(e_cdf))\n",
        "            x_idx_list.append(torch.tensor(x_idx))\n",
        "        \n",
        "        # Save parameter for backward use\n",
        "        # The function only accpets Variable as input, stack all tensors in a list\n",
        "        p_cdf_stack = torch.stack(p_cdf_list)\n",
        "        p_pdf_stack = torch.stack(p_pdf_list)\n",
        "        e_cdf_stack = torch.stack(e_cdf_list)\n",
        "        x_idx_stack = torch.stack(x_idx_list)\n",
        "        ctx.save_for_backward(p_cdf_stack, p_pdf_stack, e_cdf_stack, x_idx_stack)\n",
        "        return loss * gamma\n",
        "    @staticmethod\n",
        "    def backward(ctx, grad):\n",
        "        # Read parameter from backward\n",
        "        p_cdf_stack, p_pdf_stack, e_cdf_stack, x_idx_stack = ctx.saved_tensors\n",
        "        # Split the stack into lists of tensors\n",
        "        p_cdf_list = list(torch.split(p_cdf_stack, 1))\n",
        "        p_pdf_list = list(torch.split(p_pdf_stack, 1))\n",
        "        e_cdf_list = list(torch.split(e_cdf_stack, 1))\n",
        "        x_idx_list = list(torch.split(x_idx_stack, 1))\n",
        "\n",
        "        bs_grad_list = []\n",
        "        for i in range(len(p_cdf_list)):\n",
        "            # Remove redundant dimension (caused by stacking) by squeezing\n",
        "            p_cdf = torch.squeeze(p_cdf_list[i]).numpy()\n",
        "            p_pdf = torch.squeeze(p_pdf_list[i]).numpy()\n",
        "            e_cdf = torch.squeeze(e_cdf_list[i]).numpy()\n",
        "            x_idx = torch.squeeze(x_idx_list[i]).numpy()\n",
        "            bs_grad = -2 * p_pdf * (e_cdf - p_cdf)\n",
        "            # Undo sort\n",
        "            bs_grad_unsort = [bs_grad[i] for i in x_idx]\n",
        "            bs_grad_list.append(torch.tensor(bs_grad_unsort))\n",
        "        # The function is not using imput grad since it\n",
        "        # is applied at the end of the model as a loss funciton\n",
        "        bs_grad_stack = torch.autograd.Variable(torch.stack(bs_grad_list))\n",
        "        bs_grad_stack = bs_grad_stack.to(device)\n",
        "        return bs_grad_stack, None, None, None, None\n",
        "\n",
        "bs_loss = Batch_Shaping_Loss.apply"
      ]
    },
    {
      "cell_type": "markdown",
      "metadata": {},
      "source": [
        "## Step 4: Start the training process.\n"
      ]
    },
    {
      "cell_type": "markdown",
      "metadata": {},
      "source": [
        "### 4.1 Register hook functions to get the output of each gates"
      ]
    },
    {
      "cell_type": "code",
      "execution_count": 11,
      "metadata": {},
      "outputs": [
        {
          "data": {
            "text/plain": [
              "<torch.utils.hooks.RemovableHandle at 0x7f486affbcc0>"
            ]
          },
          "execution_count": 11,
          "metadata": {},
          "output_type": "execute_result"
        }
      ],
      "source": [
        "# Hook function to get the output activation from a certain layer\n",
        "activation = {}\n",
        "def get_activation(name):\n",
        "    def hook(model, input, output):\n",
        "        activation[name] = output.detach()\n",
        "    return hook\n",
        "\n",
        "# Register a hook function to get activations from the last layer\n",
        "net.block1[0].gate.register_forward_hook(get_activation('block1[0].gate'))\n",
        "net.block1[1].gate.register_forward_hook(get_activation('block1[1].gate'))\n",
        "net.block1[2].gate.register_forward_hook(get_activation('block1[2].gate'))\n",
        "net.block2[0].gate.register_forward_hook(get_activation('block2[0].gate'))\n",
        "net.block2[1].gate.register_forward_hook(get_activation('block2[1].gate'))\n",
        "net.block2[2].gate.register_forward_hook(get_activation('block2[2].gate'))\n",
        "net.block3[0].gate.register_forward_hook(get_activation('block3[0].gate'))\n",
        "net.block3[1].gate.register_forward_hook(get_activation('block3[1].gate'))\n",
        "net.block3[2].gate.register_forward_hook(get_activation('block3[2].gate'))"
      ]
    },
    {
      "cell_type": "markdown",
      "metadata": {},
      "source": [
        "### 4.2 Start training"
      ]
    },
    {
      "cell_type": "code",
      "execution_count": 34,
      "metadata": {},
      "outputs": [
        {
          "name": "stdout",
          "output_type": "stream",
          "text": [
            "==> Training starts!\n",
            "==================================================\n",
            "\n",
            "Epoch [1/160]\n",
            "Epoch 1:\n",
            "Training loss: 666.2318, Training accuracy: 0.2045\n",
            "Validation loss: 1.8536, Validation accuracy: 0.2840\n",
            "Saving ...\n",
            "\n",
            "\n",
            "Epoch [2/160]\n",
            "Epoch 2:\n",
            "Training loss: 665.8628, Training accuracy: 0.3302\n",
            "Validation loss: 1.6375, Validation accuracy: 0.3834\n",
            "Saving ...\n",
            "\n",
            "\n",
            "Epoch [3/160]\n",
            "Epoch 3:\n",
            "Training loss: 665.6810, Training accuracy: 0.4127\n",
            "Validation loss: 1.5417, Validation accuracy: 0.4328\n",
            "Saving ...\n",
            "\n",
            "\n",
            "Epoch [4/160]\n",
            "Epoch 4:\n",
            "Training loss: 665.5590, Training accuracy: 0.4675\n",
            "Validation loss: 1.4019, Validation accuracy: 0.4846\n",
            "Saving ...\n",
            "\n",
            "\n",
            "Epoch [5/160]\n",
            "Epoch 5:\n",
            "Training loss: 665.4615, Training accuracy: 0.5080\n",
            "Validation loss: 1.3988, Validation accuracy: 0.4994\n",
            "Saving ...\n",
            "\n",
            "\n",
            "Epoch [6/160]\n",
            "Epoch 6:\n",
            "Training loss: 665.3900, Training accuracy: 0.5332\n",
            "Validation loss: 1.2892, Validation accuracy: 0.5414\n",
            "Saving ...\n",
            "\n",
            "\n",
            "Epoch [7/160]\n",
            "Epoch 7:\n",
            "Training loss: 665.3371, Training accuracy: 0.5572\n",
            "Validation loss: 1.2946, Validation accuracy: 0.5408\n",
            "\n",
            "\n",
            "Epoch [8/160]\n",
            "Epoch 8:\n",
            "Training loss: 665.2910, Training accuracy: 0.5754\n",
            "Validation loss: 1.2818, Validation accuracy: 0.5492\n",
            "Saving ...\n",
            "\n",
            "\n",
            "Epoch [9/160]\n",
            "Epoch 9:\n",
            "Training loss: 665.2542, Training accuracy: 0.5923\n",
            "Validation loss: 1.3142, Validation accuracy: 0.5458\n",
            "\n",
            "\n",
            "Epoch [10/160]\n",
            "Epoch 10:\n",
            "Training loss: 665.2230, Training accuracy: 0.6048\n",
            "Validation loss: 1.0613, Validation accuracy: 0.6258\n",
            "Saving ...\n",
            "\n",
            "\n",
            "Epoch [11/160]\n",
            "Epoch 11:\n",
            "Training loss: 665.1921, Training accuracy: 0.6145\n",
            "Validation loss: 1.3615, Validation accuracy: 0.5448\n",
            "\n",
            "\n",
            "Epoch [12/160]\n",
            "Epoch 12:\n",
            "Training loss: 665.1703, Training accuracy: 0.6208\n",
            "Validation loss: 1.2028, Validation accuracy: 0.5896\n",
            "\n",
            "\n",
            "Epoch [13/160]\n",
            "Epoch 13:\n",
            "Training loss: 665.1506, Training accuracy: 0.6278\n",
            "Validation loss: 1.1182, Validation accuracy: 0.6100\n",
            "\n",
            "\n",
            "Epoch [14/160]\n",
            "Epoch 14:\n",
            "Training loss: 665.1332, Training accuracy: 0.6369\n",
            "Validation loss: 1.0920, Validation accuracy: 0.6138\n",
            "\n",
            "\n",
            "Epoch [15/160]\n",
            "Epoch 15:\n",
            "Training loss: 665.1143, Training accuracy: 0.6436\n",
            "Validation loss: 1.0673, Validation accuracy: 0.6196\n",
            "\n",
            "\n",
            "Epoch [16/160]\n",
            "Epoch 16:\n",
            "Training loss: 665.0965, Training accuracy: 0.6506\n",
            "Validation loss: 1.2917, Validation accuracy: 0.5766\n",
            "\n",
            "\n",
            "Epoch [17/160]\n",
            "Epoch 17:\n",
            "Training loss: 665.0851, Training accuracy: 0.6528\n",
            "Validation loss: 1.1593, Validation accuracy: 0.6076\n",
            "\n",
            "\n",
            "Epoch [18/160]\n",
            "Epoch 18:\n",
            "Training loss: 665.0735, Training accuracy: 0.6592\n",
            "Validation loss: 1.0485, Validation accuracy: 0.6290\n",
            "Saving ...\n",
            "\n",
            "\n",
            "Epoch [19/160]\n",
            "Epoch 19:\n",
            "Training loss: 665.0583, Training accuracy: 0.6661\n",
            "Validation loss: 0.9857, Validation accuracy: 0.6560\n",
            "Saving ...\n",
            "\n",
            "\n",
            "Epoch [20/160]\n",
            "Epoch 20:\n",
            "Training loss: 665.0545, Training accuracy: 0.6664\n",
            "Validation loss: 1.0221, Validation accuracy: 0.6502\n",
            "\n",
            "\n",
            "Epoch [21/160]\n",
            "Epoch 21:\n",
            "Training loss: 665.0452, Training accuracy: 0.6708\n",
            "Validation loss: 0.9316, Validation accuracy: 0.6742\n",
            "Saving ...\n",
            "\n",
            "\n",
            "Epoch [22/160]\n",
            "Epoch 22:\n",
            "Training loss: 665.0323, Training accuracy: 0.6751\n",
            "Validation loss: 1.0997, Validation accuracy: 0.6250\n",
            "\n",
            "\n",
            "Epoch [23/160]\n",
            "Epoch 23:\n",
            "Training loss: 665.0263, Training accuracy: 0.6766\n",
            "Validation loss: 1.0206, Validation accuracy: 0.6478\n",
            "\n",
            "\n",
            "Epoch [24/160]\n",
            "Epoch 24:\n",
            "Training loss: 665.0177, Training accuracy: 0.6796\n",
            "Validation loss: 0.9292, Validation accuracy: 0.6804\n",
            "Saving ...\n",
            "\n",
            "\n",
            "Epoch [25/160]\n",
            "Epoch 25:\n",
            "Training loss: 665.0096, Training accuracy: 0.6846\n",
            "Validation loss: 1.0821, Validation accuracy: 0.6290\n",
            "\n",
            "\n",
            "Epoch [26/160]\n",
            "Epoch 26:\n",
            "Training loss: 665.0082, Training accuracy: 0.6854\n",
            "Validation loss: 0.9606, Validation accuracy: 0.6700\n",
            "\n",
            "\n",
            "Epoch [27/160]\n",
            "Epoch 27:\n",
            "Training loss: 665.0010, Training accuracy: 0.6881\n",
            "Validation loss: 0.9396, Validation accuracy: 0.6728\n",
            "\n",
            "\n",
            "Epoch [28/160]\n",
            "Epoch 28:\n",
            "Training loss: 664.9959, Training accuracy: 0.6905\n",
            "Validation loss: 0.9761, Validation accuracy: 0.6660\n",
            "\n",
            "\n",
            "Epoch [29/160]\n",
            "Epoch 29:\n",
            "Training loss: 664.9900, Training accuracy: 0.6908\n",
            "Validation loss: 0.8953, Validation accuracy: 0.6896\n",
            "Saving ...\n",
            "\n",
            "\n",
            "Epoch [30/160]\n",
            "Epoch 30:\n",
            "Training loss: 664.9824, Training accuracy: 0.6909\n",
            "Validation loss: 0.9135, Validation accuracy: 0.6814\n",
            "\n",
            "\n",
            "Epoch [31/160]\n",
            "Epoch 31:\n",
            "Training loss: 664.9813, Training accuracy: 0.6949\n",
            "Validation loss: 0.9808, Validation accuracy: 0.6692\n",
            "\n",
            "\n",
            "Epoch [32/160]\n",
            "Epoch 32:\n"
          ]
        }
      ],
      "source": [
        "# some hyperparameters\n",
        "# total number of training epochs\n",
        "EPOCHS = 160\n",
        "# learning rate decay policy\n",
        "\n",
        "# the folder where the trained model is saved\n",
        "CHECKPOINT_PATH = \"./saved_model\"\n",
        "\n",
        "# start the training/validation process\n",
        "# the process should take about 5 minutes on a GTX 1070-Ti\n",
        "# if the code is written efficiently.\n",
        "best_val_acc = 0\n",
        "current_learning_rate = INITIAL_LR\n",
        "print_total_loss = [[],[]]\n",
        "print(\"==> Training starts!\")\n",
        "print(\"=\"*50)\n",
        "for i in range(0, EPOCHS):\n",
        "    # handle the learning rate scheduler.\n",
        "    \n",
        "    #######################\n",
        "    # your code here\n",
        "    # switch to train mode\n",
        "    net.train()\n",
        "    print(\"\\nEpoch [{}/{}]\".format(i+1, EPOCHS))\n",
        "    #######################\n",
        "    \n",
        "    print(\"Epoch %d:\" %(i+1))\n",
        "    # this help you compute the training accuracy\n",
        "    total_examples = 0\n",
        "    correct_examples = 0\n",
        "\n",
        "    train_loss = 0 # track training loss if you want\n",
        "    \n",
        "    # Train the model for 1 epoch.\n",
        "    for batch_idx, (inputs, targets) in enumerate(train_loader):\n",
        "        ####################################\n",
        "        # your code here\n",
        "        # copy inputs to device\n",
        "        inputs = inputs.to(device)\n",
        "        targets = targets.to(device)\n",
        "        out = net(inputs)\n",
        "        loss = criterion(out,targets)# + bs_loss(out, GAMMA, ALPHA, BETA, TRAIN_BATCH_SIZE)\n",
        "        \n",
        "        for i in range(3):\n",
        "            for j in range(3):\n",
        "                gate = activation['block{}[{}].gate'.format(i+1, j)]\n",
        "                loss += bs_loss(gate, GAMMA, ALPHA, BETA, TRAIN_BATCH_SIZE)\n",
        "\n",
        "        optimizer.zero_grad()\n",
        "        loss.backward()\n",
        "        optimizer.step()\n",
        "        _,predicted = torch.max(out, 1)\n",
        "        correct = predicted.eq(targets).sum()\n",
        "        train_loss+=loss\n",
        "        total_examples+=targets.shape[0]\n",
        "        correct_examples += correct.item()\n",
        "        ####################################\n",
        "                \n",
        "    avg_loss = train_loss / len(train_loader)\n",
        "    train_avg_acc = correct_examples / total_examples\n",
        "    print(\"Training loss: %.4f, Training accuracy: %.4f\" %(avg_loss, train_avg_acc))\n",
        "#     print(train_avg_acc)\n",
        "\n",
        "    # Validate on the validation dataset\n",
        "    #######################\n",
        "    # your code here\n",
        "    # switch to eval mode\n",
        "    net.eval()\n",
        "    \n",
        "    \n",
        "    #######################\n",
        "\n",
        "    # this help you compute the validation accuracy\n",
        "    total_examples = 0\n",
        "    correct_examples = 0\n",
        "    \n",
        "    val_loss = 0 # again, track the validation loss if you want\n",
        "\n",
        "    # disable gradient during validation, which can save GPU memory\n",
        "    with torch.no_grad():\n",
        "        for batch_idx, (inputs, targets) in enumerate(val_loader):\n",
        "            ####################################\n",
        "            # your code here\n",
        "            # copy inputs to device\n",
        "            inputs = inputs.to(device)\n",
        "            targets = targets.to(device)\n",
        "            out = net(inputs)\n",
        "            loss = criterion(out,targets)\n",
        "            _,predicted = torch.max(out, 1)\n",
        "            correct = predicted.eq(targets).sum()\n",
        "            val_loss+=loss\n",
        "            total_examples+=targets.shape[0]\n",
        "            correct_examples += correct.item()\n",
        "            ####################################\n",
        "\n",
        "    avg_loss = val_loss / len(val_loader)\n",
        "    avg_acc = correct_examples / total_examples\n",
        "    print(\"Validation loss: %.4f, Validation accuracy: %.4f\" % (avg_loss, avg_acc))\n",
        "    scheduler.step(avg_loss)\n",
        "    print_total_loss[0].append(train_avg_acc)\n",
        "    print_total_loss[1].append(avg_acc)\n",
        "    # save the model checkpoint\n",
        "    if avg_acc > best_val_acc:\n",
        "        best_val_acc = avg_acc\n",
        "        if not os.path.exists(CHECKPOINT_PATH):\n",
        "            os.makedirs(CHECKPOINT_PATH)\n",
        "        print(\"Saving ...\")\n",
        "        state = {'state_dict': net.state_dict(),\n",
        "                 'epoch': i,\n",
        "                 'lr': current_learning_rate}\n",
        "        torch.save(state, os.path.join(CHECKPOINT_PATH, 'ResNets_gbsm_bs.pth'))\n",
        "        \n",
        "    print('')\n",
        "\n",
        "print(\"=\"*50)\n",
        "print(f\"==> Optimization finished! Best validation accuracy: {best_val_acc:.4f}\")\n",
        "\n",
        "net.eval()\n",
        "results = []\n",
        "with torch.no_grad():\n",
        "    for inputs in (test_loader):\n",
        "        inputs = inputs.to(device)\n",
        "        # Generate output from the DNN.\n",
        "        outputs = net(inputs)        \n",
        "        # Calculate predicted labels\n",
        "        _, predicted = torch.max(out, 1)\n",
        "        results.append(predicted.detach().cpu().numpy())\n",
        "results = np.array(results).flatten()\n",
        "with open('predictions_%.4f.csv'%(best_val_acc), 'w') as fp:\n",
        "    fp.write(\"Id,Label\\n\")\n",
        "    for i in range(len(results)):\n",
        "        fp.write(\"%d,%d\\n\" %(i, results[i]))"
      ]
    },
    {
      "cell_type": "markdown",
      "metadata": {},
      "source": [
        "## Step 5: Prepare for gate usage analysis"
      ]
    },
    {
      "cell_type": "markdown",
      "metadata": {},
      "source": [
        "### 5.1 Load Model"
      ]
    },
    {
      "cell_type": "code",
      "execution_count": 86,
      "metadata": {},
      "outputs": [
        {
          "data": {
            "text/plain": [
              "<All keys matched successfully>"
            ]
          },
          "execution_count": 86,
          "metadata": {},
          "output_type": "execute_result"
        }
      ],
      "source": [
        "# the folder where the trained model is saved\n",
        "CHECKPOINT_PATH = \"./saved_model\"\n",
        "\n",
        "net = ResNets()\n",
        "net = net.to(device)\n",
        "checkpoint = torch.load(os.path.join(CHECKPOINT_PATH, 'ResNets_gbsm_bs_py.pth'))\n",
        "# checkpoint = torch.load(os.path.join(CHECKPOINT_PATH, 'ResNets_gbsm.pth'))\n",
        "net.load_state_dict(checkpoint['state_dict'])"
      ]
    },
    {
      "cell_type": "code",
      "execution_count": 87,
      "metadata": {},
      "outputs": [],
      "source": [
        "# print(net)\n",
        "# print(net.block1[0].gate.fc2)"
      ]
    },
    {
      "cell_type": "markdown",
      "metadata": {},
      "source": [
        "### 5.2 Registe hook functions to get outputs of gates"
      ]
    },
    {
      "cell_type": "code",
      "execution_count": 88,
      "metadata": {},
      "outputs": [
        {
          "data": {
            "text/plain": [
              "<torch.utils.hooks.RemovableHandle at 0x7fe206893438>"
            ]
          },
          "execution_count": 88,
          "metadata": {},
          "output_type": "execute_result"
        }
      ],
      "source": [
        "# Hook function to get the output activation from a certain layer\n",
        "activation = {}\n",
        "def get_activation(name):\n",
        "    def hook(model, input, output):\n",
        "        activation[name] = output.detach()\n",
        "    return hook\n",
        "\n",
        "# Register a hook function to get activations from the last layer\n",
        "net.block1[0].gate.register_forward_hook(get_activation('block1[0].gate'))\n",
        "net.block1[1].gate.register_forward_hook(get_activation('block1[1].gate'))\n",
        "net.block1[2].gate.register_forward_hook(get_activation('block1[2].gate'))\n",
        "net.block2[0].gate.register_forward_hook(get_activation('block2[0].gate'))\n",
        "net.block2[1].gate.register_forward_hook(get_activation('block2[1].gate'))\n",
        "net.block2[2].gate.register_forward_hook(get_activation('block2[2].gate'))\n",
        "net.block3[0].gate.register_forward_hook(get_activation('block3[0].gate'))\n",
        "net.block3[1].gate.register_forward_hook(get_activation('block3[1].gate'))\n",
        "net.block3[2].gate.register_forward_hook(get_activation('block3[2].gate'))"
      ]
    },
    {
      "cell_type": "markdown",
      "metadata": {},
      "source": [
        "### 5.3 Run validation\n",
        "\n",
        "Run a validation set to get the filter selection across different images."
      ]
    },
    {
      "cell_type": "code",
      "execution_count": 89,
      "metadata": {},
      "outputs": [
        {
          "name": "stdout",
          "output_type": "stream",
          "text": [
            "Validation loss: 0.6669, Validation accuracy: 0.7702\n"
          ]
        }
      ],
      "source": [
        "# Validate on the validation dataset\n",
        "\n",
        "# switch to eval mode\n",
        "net.eval()\n",
        "\n",
        "# this help you compute the validation accuracy\n",
        "total_examples = 0\n",
        "correct_examples = 0\n",
        "\n",
        "val_loss = 0 # again, track the validation loss if you want\n",
        "\n",
        "# disable gradient during validation, which can save GPU memory\n",
        "with torch.no_grad():\n",
        "\n",
        "    gates = []\n",
        "    classes = []\n",
        "    for batch_idx, (inputs, targets) in enumerate(val_loader):\n",
        "        ####################################\n",
        "        # your code here\n",
        "        # copy inputs to device\n",
        "        inputs = inputs.to(device)\n",
        "        targets = targets.to(device)\n",
        "        \n",
        "        # compute the output and loss\n",
        "        outputs = net(inputs)\n",
        "\n",
        "        # Get output of gates in the network\n",
        "        if batch_idx == 0:\n",
        "            for i in range(1, 4, 1):\n",
        "                gates_in_block = []\n",
        "                for j in range(3):\n",
        "                    gate = activation['block{}[{}].gate'.format(i, j)]\n",
        "                    gates_in_block.append(gate)\n",
        "                gates.append(gates_in_block)\n",
        "        else:\n",
        "            for i in range(3):\n",
        "                for j in range(3):\n",
        "                    gate = activation['block{}[{}].gate'.format(i+1, j)]\n",
        "                    gates[i][j] = torch.cat([gates[i][j], gate])\n",
        "                    # gates[i][j].append(gate)\n",
        "\n",
        "        # Record the output classes\n",
        "        classes.append(targets)\n",
        "\n",
        "        loss = criterion(outputs, targets)\n",
        "        \n",
        "        # count the number of correctly predicted samples in the current batch\n",
        "        _, predicted = outputs.max(1)\n",
        "        total_examples += predicted.size(0)\n",
        "        correct_examples += predicted.eq(targets).sum().item()\n",
        "        val_loss += loss\n",
        "        ####################################\n",
        "\n",
        "avg_loss = val_loss / len(val_loader)\n",
        "avg_acc = correct_examples / total_examples\n",
        "print(\"Validation loss: %.4f, Validation accuracy: %.4f\" % (avg_loss, avg_acc))\n",
        "    "
      ]
    },
    {
      "cell_type": "markdown",
      "metadata": {},
      "source": [
        "## Step 6: Read overall gate usage"
      ]
    },
    {
      "cell_type": "markdown",
      "metadata": {},
      "source": [
        "### 6.1 Count gate open frequency over the entire validation set"
      ]
    },
    {
      "cell_type": "code",
      "execution_count": 90,
      "metadata": {},
      "outputs": [],
      "source": [
        "HIGH_THRS=0.99 # On threshold\n",
        "LOW_THRS=0.01 # Off threshold\n",
        "\n",
        "def count_gate_status(gate: torch.Tensor):\n",
        "    # gate.shape[0]: batch size\n",
        "    # gate.shape[1]: gate numbers (channel numbers)\n",
        "    batch_size = gate.shape[0]\n",
        "    gate_num = gate.shape[1]\n",
        "    print('batch_size = {}, gate_num = {}'.format(batch_size, gate_num))\n",
        "\n",
        "    count = torch.zeros(gate_num).to(device)\n",
        "    for i in range(batch_size):\n",
        "        count = count + gate[i]\n",
        "\n",
        "    # print(count)\n",
        "    always_off = 0\n",
        "    always_on = 0\n",
        "    rest = 0\n",
        "\n",
        "    for i in range(gate_num):\n",
        "        if (count[i] > batch_size * HIGH_THRS):\n",
        "            always_on = always_on + 1\n",
        "        elif (count[i] < batch_size * LOW_THRS):\n",
        "            always_off = always_off + 1\n",
        "        else:\n",
        "            rest = rest + 1\n",
        "\n",
        "    return always_on, always_off, rest"
      ]
    },
    {
      "cell_type": "code",
      "execution_count": 91,
      "metadata": {},
      "outputs": [
        {
          "name": "stdout",
          "output_type": "stream",
          "text": [
            "block1[0].gate\n",
            "torch.Size([5000, 16])\n",
            "batch_size = 5000, gate_num = 16\n",
            "on = 0, off = 0, rest = 16\n",
            "block1[1].gate\n",
            "torch.Size([5000, 16])\n",
            "batch_size = 5000, gate_num = 16\n",
            "on = 0, off = 0, rest = 16\n",
            "block1[2].gate\n",
            "torch.Size([5000, 16])\n",
            "batch_size = 5000, gate_num = 16\n",
            "on = 0, off = 0, rest = 16\n",
            "block2[0].gate\n",
            "torch.Size([5000, 32])\n",
            "batch_size = 5000, gate_num = 32\n",
            "on = 0, off = 0, rest = 32\n",
            "block2[1].gate\n",
            "torch.Size([5000, 32])\n",
            "batch_size = 5000, gate_num = 32\n",
            "on = 0, off = 0, rest = 32\n",
            "block2[2].gate\n",
            "torch.Size([5000, 32])\n",
            "batch_size = 5000, gate_num = 32\n",
            "on = 0, off = 1, rest = 31\n",
            "block3[0].gate\n",
            "torch.Size([5000, 64])\n",
            "batch_size = 5000, gate_num = 64\n",
            "on = 0, off = 25, rest = 39\n",
            "block3[1].gate\n",
            "torch.Size([5000, 64])\n",
            "batch_size = 5000, gate_num = 64\n",
            "on = 0, off = 21, rest = 43\n",
            "block3[2].gate\n",
            "torch.Size([5000, 64])\n",
            "batch_size = 5000, gate_num = 64\n",
            "on = 0, off = 20, rest = 44\n"
          ]
        }
      ],
      "source": [
        "on_list = []\n",
        "off_list = []\n",
        "rest_list = []\n",
        "\n",
        "for i in range(3):\n",
        "    for j in range(3):\n",
        "        print('block{}[{}].gate'.format(i+1, j))\n",
        "        print(gates[i][j].shape)\n",
        "        # print(gates[i][j])\n",
        "        on, off, rest = count_gate_status(gates[i][j])\n",
        "        print('on = {}, off = {}, rest = {}'.format(on, off, rest))\n",
        "        # print('sort index = {}'.format(sort_idx))\n",
        "        # all = on + off + rest\n",
        "        # print('on = {:.2%}, off = {:.2%}, rest = {:.2%}'.format(on/all, off/all, rest/all))\n",
        "        on_list.append(on)\n",
        "        off_list.append(off)\n",
        "        rest_list.append(rest)"
      ]
    },
    {
      "cell_type": "markdown",
      "metadata": {},
      "source": [
        "### 6.2 Plot gate status"
      ]
    },
    {
      "cell_type": "code",
      "execution_count": 92,
      "metadata": {},
      "outputs": [
        {
          "data": {
            "text/plain": [
              "<matplotlib.legend.Legend at 0x7fe205da08d0>"
            ]
          },
          "execution_count": 92,
          "metadata": {},
          "output_type": "execute_result"
        },
        {
          "data": {
            "image/png": "[encoded data removed]",
            "text/plain": [
              "<Figure size 432x288 with 1 Axes>"
            ]
          },
          "metadata": {
            "needs_background": "light"
          },
          "output_type": "display_data"
        }
      ],
      "source": [
        "import matplotlib.pyplot as plt\n",
        "labels = ['block1[0]', 'block1[1]', 'block1[2]',\n",
        "          'block2[0]', 'block2[1]', 'block2[2]',\n",
        "          'block3[0]', 'block3[1]', 'block3[2]']\n",
        "\n",
        "off_list = torch.Tensor(off_list)\n",
        "on_list = torch.Tensor(on_list)\n",
        "rest_list = torch.Tensor(rest_list)\n",
        "\n",
        "fig, ax = plt.subplots()\n",
        "ax.bar(labels, off_list, color='royalblue', label='Always off gates')\n",
        "ax.bar(labels, rest_list, bottom=off_list, color='gold', label='Conditionally on/off gates')\n",
        "ax.bar(labels, on_list, bottom=(rest_list+off_list), color='aqua', label='Always on gates')\n",
        "plt.xticks(rotation=90)\n",
        "plt.xlabel('With Batch-shaping loss')\n",
        "plt.ylabel('Number of gated filters')\n",
        "plt.legend()\n"
      ]
    },
    {
      "cell_type": "markdown",
      "metadata": {},
      "source": [
        "### 6.3 Calculate average FLOPs"
      ]
    },
    {
      "cell_type": "code",
      "execution_count": 93,
      "metadata": {},
      "outputs": [],
      "source": [
        "def count_gate_open_rate(gate: torch.Tensor):\n",
        "    # gate.shape[0]: batch size\n",
        "    # gate.shape[1]: gate numbers (channel numbers)\n",
        "    batch_size = gate.shape[0]\n",
        "    gate_num = gate.shape[1]\n",
        "    print('batch_size = {}, gate_num = {}'.format(batch_size, gate_num))\n",
        "\n",
        "    count = torch.zeros(gate_num).to(device)\n",
        "    for i in range(batch_size):\n",
        "        count = count + gate[i]\n",
        "\n",
        "        # if i < 2:\n",
        "        #     print(gate[i])\n",
        "\n",
        "    print(count)\n",
        "    open_gates = 0\n",
        "\n",
        "    for i in range(gate_num):\n",
        "        open_gates = open_gates + count[i]\n",
        "\n",
        "    print(open_gates.item())\n",
        "    avg_open_gates = open_gates / batch_size\n",
        "\n",
        "    return avg_open_gates"
      ]
    },
    {
      "cell_type": "code",
      "execution_count": 94,
      "metadata": {},
      "outputs": [
        {
          "name": "stdout",
          "output_type": "stream",
          "text": [
            "block1[0].gate\n",
            "torch.Size([5000, 16])\n",
            "batch_size = 5000, gate_num = 16\n",
            "tensor([300., 217., 508., 339., 225., 243., 312., 245., 422., 736., 198., 405.,\n",
            "        194., 251., 240., 165.], device='cuda:1')\n",
            "5000.0\n",
            "1.0\n",
            "block1[1].gate\n",
            "torch.Size([5000, 16])\n",
            "batch_size = 5000, gate_num = 16\n",
            "tensor([428., 470., 216., 189., 219., 307., 445., 278., 159., 159., 196., 646.,\n",
            "        631., 145., 199., 313.], device='cuda:1')\n",
            "5000.0\n",
            "1.0\n",
            "block1[2].gate\n",
            "torch.Size([5000, 16])\n",
            "batch_size = 5000, gate_num = 16\n",
            "tensor([845., 205., 330., 158., 281., 349., 438., 362., 469., 164., 204., 221.,\n",
            "        196., 262., 180., 336.], device='cuda:1')\n",
            "5000.0\n",
            "1.0\n",
            "block2[0].gate\n",
            "torch.Size([5000, 32])\n",
            "batch_size = 5000, gate_num = 32\n",
            "tensor([125.,  95., 119., 372., 173.,  72., 123., 118., 459., 123., 212., 159.,\n",
            "        176.,  87., 121., 110., 233., 210., 144., 208.,  83., 132., 206.,  85.,\n",
            "        132.,  80., 167., 142., 152., 114., 142., 126.], device='cuda:1')\n",
            "5000.0\n",
            "1.0\n",
            "block2[1].gate\n",
            "torch.Size([5000, 32])\n",
            "batch_size = 5000, gate_num = 32\n",
            "tensor([145., 114.,  82., 102.,  66., 161., 177., 259.,  73., 220., 187., 101.,\n",
            "        152., 217.,  99., 128.,  80.,  98., 247., 130., 148., 296., 221., 185.,\n",
            "        312., 109., 156., 184., 159., 127., 166.,  99.], device='cuda:1')\n",
            "5000.0\n",
            "1.0\n",
            "block2[2].gate\n",
            "torch.Size([5000, 32])\n",
            "batch_size = 5000, gate_num = 32\n",
            "tensor([ 285.,   70.,   68.,   51.,  105.,  133.,   52.,   67.,   76.,   80.,\n",
            "         237.,   89.,  164.,  644.,   52.,   62., 1404.,   63.,   60.,   65.,\n",
            "          63.,  105.,   55.,   60.,   70.,  136.,  143.,   41.,  109.,   62.,\n",
            "         230.,   99.], device='cuda:1')\n",
            "5000.0\n",
            "1.0\n",
            "block3[0].gate\n",
            "torch.Size([5000, 64])\n",
            "batch_size = 5000, gate_num = 64\n",
            "tensor([ 72.,  45.,  70.,  65.,  42.,  22.,  56., 120.,  60.,  79.,  56.,  33.,\n",
            "         65., 117., 210., 859.,  93.,  37.,  36., 141.,  31.,  39.,  47.,  39.,\n",
            "         21., 114., 118.,  47.,  97.,  53., 123.,  46.,  60., 111.,  95.,  42.,\n",
            "         56.,  54.,  83.,  71., 117.,  41.,  57.,  66.,  20.,  34.,  73.,  26.,\n",
            "         36., 134.,  33.,  62.,  23.,  67.,  95.,  34.,  29.,  47.,  53.,  50.,\n",
            "         59.,  68., 105.,  46.], device='cuda:1')\n",
            "5000.0\n",
            "1.0\n",
            "block3[1].gate\n",
            "torch.Size([5000, 64])\n",
            "batch_size = 5000, gate_num = 64\n",
            "tensor([ 74.,  35.,  43.,  47.,  58., 120.,  92.,  57.,  48.,  45., 142.,  42.,\n",
            "         74.,  59.,  57., 121., 205.,  82.,  52.,  72.,  34.,  83.,  62.,  56.,\n",
            "         32.,  46., 100., 261.,  62., 157.,  78.,  78.,  55.,  46.,  42.,  55.,\n",
            "         33., 157.,  53., 141., 171., 236.,  43.,  40.,  41., 116.,  57.,  54.,\n",
            "        101.,  45.,  54.,  43.,  87., 101.,  37.,  78.,  57.,  41.,  67.,  45.,\n",
            "         39.,  58., 143.,  90.], device='cuda:1')\n",
            "5000.0\n",
            "1.0\n",
            "block3[2].gate\n",
            "torch.Size([5000, 64])\n",
            "batch_size = 5000, gate_num = 64\n",
            "tensor([ 47.,  74.,  76.,  63.,  51.,  44.,  64.,  60., 147., 183.,  50.,  37.,\n",
            "         47., 107.,  54.,  61.,  78.,  40.,  33., 115.,  50.,  54.,  44.,  41.,\n",
            "        108.,  47.,  53.,  54.,  52.,  57.,  92.,  50.,  56.,  80.,  54., 118.,\n",
            "         40., 169.,  44.,  75., 103., 100., 338.,  59.,  38., 479.,  49.,  54.,\n",
            "         78.,  37.,  44.,  69.,  88.,  47.,  79.,  47.,  76.,  32.,  46., 136.,\n",
            "         55.,  58.,  72.,  47.], device='cuda:1')\n",
            "5000.0\n",
            "1.0\n"
          ]
        }
      ],
      "source": [
        "for i in range(3):\n",
        "    for j in range(3):\n",
        "        print('block{}[{}].gate'.format(i+1, j))\n",
        "        print(gates[i][j].shape)\n",
        "        # print(gates[i][j])\n",
        "        print(count_gate_open_rate(gates[i][j]).item())\n"
      ]
    },
    {
      "cell_type": "markdown",
      "metadata": {},
      "source": [
        "## Step 7: Read Gate Usage for specific classes"
      ]
    },
    {
      "cell_type": "code",
      "execution_count": 95,
      "metadata": {},
      "outputs": [],
      "source": [
        "# Test on specific pattern\n",
        "\n",
        "lbl_dict = {'deer': 1, \n",
        "            'horse': 2,\n",
        "            'frog': 3,\n",
        "            'truck': 4,\n",
        "            'airplane': 5,\n",
        "            'cat': 6,\n",
        "            'dog': 7,\n",
        "            'ship': 8,\n",
        "            'bird': 9,\n",
        "            'automobile': 10}\n",
        "\n",
        "# print(classes[0].shape)\n",
        "# print(len(classes))\n",
        "\n",
        "# print(lbl_dict['truck'])\n",
        "# print(torch.cat(classes).shape)"
      ]
    },
    {
      "cell_type": "markdown",
      "metadata": {},
      "source": [
        "### 7.1 Sort gates based on open frequency\n",
        "\n",
        "The frequency here refers to the number of times a gate is open for the entire\n",
        "validation set."
      ]
    },
    {
      "cell_type": "code",
      "execution_count": 96,
      "metadata": {},
      "outputs": [],
      "source": [
        "# Sort the gate based on execution frequency over the entire validation set\n",
        "\n",
        "def sort_gate_freq_idx(gate: torch.Tensor):\n",
        "    # gate.shape[0]: batch size\n",
        "    # gate.shape[1]: gate numbers (channel numbers)\n",
        "    batch_size = gate.shape[0]\n",
        "    gate_num = gate.shape[1]\n",
        "    # print('batch_size = {}, gate_num = {}'.format(batch_size, gate_num))\n",
        "\n",
        "    count = torch.zeros(gate_num).to(device)\n",
        "    for i in range(batch_size):\n",
        "        count = count + gate[i]\n",
        "\n",
        "    # print(count)\n",
        "\n",
        "    return np.argsort(count.detach().cpu().numpy()).tolist()"
      ]
    },
    {
      "cell_type": "markdown",
      "metadata": {},
      "source": [
        "### 7.2 Plot gate open frequency for a specific class\n",
        "\n",
        "For different classes, the gate open patterns should also be different."
      ]
    },
    {
      "cell_type": "code",
      "execution_count": 103,
      "metadata": {},
      "outputs": [],
      "source": [
        "def get_gate_status_freq(gate: torch.Tensor, targets, cls=0):\n",
        "    # gate.shape[0]: batch size\n",
        "    # gate.shape[1]: gate numbers (channel numbers)\n",
        "    batch_size = gate.shape[0]\n",
        "    gate_num = gate.shape[1]\n",
        "    # print('batch_size = {}, gate_num = {}'.format(batch_size, gate_num))\n",
        "\n",
        "    count = torch.zeros(gate_num).to(device)\n",
        "    appear_times = 0\n",
        "    for i in range(batch_size):\n",
        "        if targets[i] == cls:\n",
        "            count = count + gate[i]\n",
        "            appear_times = appear_times + 1\n",
        "\n",
        "    freq = [None] * gate_num\n",
        "\n",
        "    for i in range(gate_num):\n",
        "        freq[i] = count[i].item() / appear_times\n",
        "\n",
        "    return freq"
      ]
    },
    {
      "cell_type": "code",
      "execution_count": 104,
      "metadata": {},
      "outputs": [],
      "source": [
        "CLS = lbl_dict['airplane']\n",
        "\n",
        "sorted_list = []\n",
        "\n",
        "for i in range(3):\n",
        "    for j in range(3):\n",
        "        # print('block{}[{}].gate'.format(i+1, j))\n",
        "        freq = get_gate_status_freq(gates[i][j], torch.cat(classes), cls=CLS)\n",
        "        # print(freq)\n",
        "        sort_idx = sort_gate_freq_idx(gates[i][j])\n",
        "        # print('sort index = {}'.format(sort_idx))\n",
        "        sorted_freq = [[freq[i]] for i in sort_idx]\n",
        "        sorted_freq.reverse()\n",
        "        sorted_list.append(sorted_freq)"
      ]
    },
    {
      "cell_type": "code",
      "execution_count": 105,
      "metadata": {},
      "outputs": [
        {
          "data": {
            "image/png": "[encoded data removed]",
            "text/plain": [
              "<Figure size 432x288 with 10 Axes>"
            ]
          },
          "metadata": {
            "needs_background": "light"
          },
          "output_type": "display_data"
        }
      ],
      "source": [
        "import seaborn as sns\n",
        "\n",
        "ax = [None] * 9\n",
        "\n",
        "fig, ax = plt.subplots(ncols=len(ax))\n",
        "fig.subplots_adjust(wspace=0)\n",
        "for i in range(len(ax)):\n",
        "    sns.heatmap(sorted_list[i], cmap='viridis', ax=ax[i], cbar=False, xticklabels=False, yticklabels=False, vmin=0, vmax=1)\n",
        "fig.colorbar(ax[8].collections[0], ax=ax[8], location='right', use_gridspec=False, pad=0.2)\n",
        "\n",
        "plt.show()\n"
      ]
    },
    {
      "cell_type": "markdown",
      "metadata": {},
      "source": [
        "### 7.3 Plot the gate open frequency for each classes"
      ]
    },
    {
      "cell_type": "code",
      "execution_count": 106,
      "metadata": {},
      "outputs": [],
      "source": [
        "# Generate heatmap data\n",
        "\n",
        "plot_2d_list = []\n",
        "\n",
        "for k in range(len(lbl_dict)):\n",
        "# for i in range(1):\n",
        "\n",
        "    sorted_list = []\n",
        "\n",
        "    for i in range(3):\n",
        "        for j in range(3):\n",
        "            # print('block{}[{}].gate'.format(i+1, j))\n",
        "            freq = get_gate_status_freq(gates[i][j], torch.cat(classes), cls=k)\n",
        "            # print(freq)\n",
        "            sort_idx = sort_gate_freq_idx(gates[i][j])\n",
        "            # print('sort index = {}'.format(sort_idx))\n",
        "            sorted_freq = [[freq[x]] for x in sort_idx]\n",
        "            # print(sorted_freq)\n",
        "            sorted_freq.reverse()\n",
        "            sorted_list.append(sorted_freq)\n",
        "\n",
        "    plot_2d_list.append(sorted_list)\n"
      ]
    },
    {
      "cell_type": "code",
      "execution_count": 107,
      "metadata": {},
      "outputs": [
        {
          "data": {
            "image/png": "[encoded data removed]",
            "text/plain": [
              "<Figure size 432x288 with 10 Axes>"
            ]
          },
          "metadata": {
            "needs_background": "light"
          },
          "output_type": "display_data"
        },
        {
          "data": {
            "image/png": "[encoded data removed]",
            "text/plain": [
              "<Figure size 432x288 with 10 Axes>"
            ]
          },
          "metadata": {
            "needs_background": "light"
          },
          "output_type": "display_data"
        },
        {
          "data": {
            "image/png": "[encoded data removed]",
            "text/plain": [
              "<Figure size 432x288 with 10 Axes>"
            ]
          },
          "metadata": {
            "needs_background": "light"
          },
          "output_type": "display_data"
        },
        {
          "data": {
            "image/png": "[encoded data removed]",
            "text/plain": [
              "<Figure size 432x288 with 10 Axes>"
            ]
          },
          "metadata": {
            "needs_background": "light"
          },
          "output_type": "display_data"
        },
        {
          "data": {
            "image/png": "[encoded data removed]",
            "text/plain": [
              "<Figure size 432x288 with 10 Axes>"
            ]
          },
          "metadata": {
            "needs_background": "light"
          },
          "output_type": "display_data"
        },
        {
          "data": {
            "image/png": "[encoded data removed]",
            "text/plain": [
              "<Figure size 432x288 with 10 Axes>"
            ]
          },
          "metadata": {
            "needs_background": "light"
          },
          "output_type": "display_data"
        },
        {
          "data": {
            "image/png": "[encoded data removed]",
            "text/plain": [
              "<Figure size 432x288 with 10 Axes>"
            ]
          },
          "metadata": {
            "needs_background": "light"
          },
          "output_type": "display_data"
        },
        {
          "data": {
            "image/png": "[encoded data removed]",
            "text/plain": [
              "<Figure size 432x288 with 10 Axes>"
            ]
          },
          "metadata": {
            "needs_background": "light"
          },
          "output_type": "display_data"
        },
        {
          "data": {
            "image/png": "[encoded data removed]",
            "text/plain": [
              "<Figure size 432x288 with 10 Axes>"
            ]
          },
          "metadata": {
            "needs_background": "light"
          },
          "output_type": "display_data"
        },
        {
          "data": {
            "image/png": "[encoded data removed]",
            "text/plain": [
              "<Figure size 432x288 with 10 Axes>"
            ]
          },
          "metadata": {
            "needs_background": "light"
          },
          "output_type": "display_data"
        }
      ],
      "source": [
        "# Plot heatmaps\n",
        "\n",
        "for i in range(len(lbl_dict)):\n",
        "# for i in range(1):\n",
        "\n",
        "    ax = [None] * 9\n",
        "\n",
        "    fig, ax = plt.subplots(ncols=len(ax))\n",
        "    fig.subplots_adjust(wspace=0)\n",
        "    for j in range(len(ax)):\n",
        "        sns.heatmap(plot_2d_list[i][j], cmap='viridis', ax=ax[j], cbar=False, xticklabels=False, yticklabels=False, vmin=0, vmax=0.2)\n",
        "    fig.colorbar(ax[8].collections[0], ax=ax[8], location='right', use_gridspec=False, pad=0.2)\n",
        "\n",
        "    plt.title(list(lbl_dict.keys())[list(lbl_dict.values()).index(i+1)])\n",
        "\n",
        "    plt.show()"
      ]
    },
    {
      "cell_type": "markdown",
      "metadata": {},
      "source": [
        "### 7.4 Plot the heatmap of difference between classes"
      ]
    },
    {
      "cell_type": "code",
      "execution_count": 108,
      "metadata": {},
      "outputs": [],
      "source": [
        "# print(len(plot_2d_list))\n",
        "# print(len(plot_2d_list[0]))\n",
        "# print(len(plot_2d_list[0][0]))\n",
        "# print(len(plot_2d_list[0][0][0]))"
      ]
    },
    {
      "cell_type": "markdown",
      "metadata": {},
      "source": [
        "For similar classses, the gate pattern should also be similar."
      ]
    },
    {
      "cell_type": "code",
      "execution_count": 109,
      "metadata": {},
      "outputs": [
        {
          "data": {
            "image/png": "[encoded data removed]",
            "text/plain": [
              "<Figure size 432x288 with 10 Axes>"
            ]
          },
          "metadata": {
            "needs_background": "light"
          },
          "output_type": "display_data"
        }
      ],
      "source": [
        "cls_1 = 'deer'\n",
        "cls_2 = 'horse'\n",
        "\n",
        "org_1 = plot_2d_list[lbl_dict[cls_1]]\n",
        "org_2 = plot_2d_list[lbl_dict[cls_2]]\n",
        "diff = []\n",
        "\n",
        "for i in range(len(org_1)):\n",
        "    diff_l1 = []\n",
        "    for j in range(len(org_1[i])):\n",
        "        diff_l2 = []\n",
        "        for k in range(len(org_1[i][j])):\n",
        "            # print(abs(org_1[i][j][k] - org_2[i][j][k]))\n",
        "            # diff[i][j][k] = abs(org_1[i][j][k] - org_2[i][j][k])\n",
        "            diff_l2.append(abs(org_1[i][j][k] - org_2[i][j][k]))\n",
        "        diff_l1.append(diff_l2)\n",
        "    diff.append(diff_l1)\n",
        "\n",
        "ax = [None] * 9\n",
        "\n",
        "fig, ax = plt.subplots(ncols=len(ax))\n",
        "fig.subplots_adjust(wspace=0)\n",
        "for m in range(len(ax)):\n",
        "    sns.heatmap(diff[m], cmap='viridis', ax=ax[m], cbar=False, xticklabels=False, yticklabels=False, vmin=0, vmax=0.2)\n",
        "fig.colorbar(ax[8].collections[0], ax=ax[8], location='right', use_gridspec=False, pad=0.2)\n",
        "\n",
        "plt.title(cls_1 + ' vs. ' + cls_2)\n",
        "\n",
        "plt.show()"
      ]
    },
    {
      "cell_type": "markdown",
      "metadata": {},
      "source": [
        "For not that similar classses, the gate pattern should be less similar."
      ]
    },
    {
      "cell_type": "code",
      "execution_count": 110,
      "metadata": {},
      "outputs": [
        {
          "data": {
            "image/png": "[encoded data removed]",
            "text/plain": [
              "<Figure size 432x288 with 10 Axes>"
            ]
          },
          "metadata": {
            "needs_background": "light"
          },
          "output_type": "display_data"
        }
      ],
      "source": [
        "cls_1 = 'airplane'\n",
        "cls_2 = 'cat'\n",
        "\n",
        "org_1 = plot_2d_list[lbl_dict[cls_1]]\n",
        "org_2 = plot_2d_list[lbl_dict[cls_2]]\n",
        "diff = []\n",
        "\n",
        "for i in range(len(org_1)):\n",
        "    diff_l1 = []\n",
        "    for j in range(len(org_1[i])):\n",
        "        diff_l2 = []\n",
        "        for k in range(len(org_1[i][j])):\n",
        "            # print(abs(org_1[i][j][k] - org_2[i][j][k]))\n",
        "            # diff[i][j][k] = abs(org_1[i][j][k] - org_2[i][j][k])\n",
        "            diff_l2.append(abs(org_1[i][j][k] - org_2[i][j][k]))\n",
        "        diff_l1.append(diff_l2)\n",
        "    diff.append(diff_l1)\n",
        "\n",
        "ax = [None] * 9\n",
        "\n",
        "fig, ax = plt.subplots(ncols=len(ax))\n",
        "fig.subplots_adjust(wspace=0)\n",
        "for m in range(len(ax)):\n",
        "    sns.heatmap(diff[m], cmap='viridis', ax=ax[m], cbar=False, xticklabels=False, yticklabels=False, vmin=0, vmax=0.2)\n",
        "fig.colorbar(ax[8].collections[0], ax=ax[8], location='right', use_gridspec=False, pad=0.2)\n",
        "\n",
        "plt.title(cls_1 + ' vs. ' + cls_2)\n",
        "\n",
        "plt.show()"
      ]
    }
  ],
  "metadata": {
    "anaconda-cloud": {},
    "kernelspec": {
      "display_name": "Python 3",
      "language": "python",
      "name": "python3"
    },
    "language_info": {
      "codemirror_mode": {
        "name": "ipython",
        "version": 3
      },
      "file_extension": ".py",
      "mimetype": "text/x-python",
      "name": "python",
      "nbconvert_exporter": "python",
      "pygments_lexer": "ipython3",
      "version": "3.6.8"
    }
  },
  "nbformat": 4,
  "nbformat_minor": 4
}
