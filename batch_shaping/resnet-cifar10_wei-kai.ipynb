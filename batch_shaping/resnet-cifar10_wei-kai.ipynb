{
  "cells": [
    {
      "cell_type": "markdown",
      "metadata": {},
      "source": [
        "# Training ResNets on CIFAR-10\n",
        "In this project, you will use the ResNets model to perform image classification on CIFAR-10. CIFAR-10 orginally contains 60K images from 10 categories. We split it into 45K/5K/10K images to serve as train/valiation/test set. We only release the ground-truth labels of training/validation dataset to you."
      ]
    },
    {
      "cell_type": "markdown",
      "metadata": {},
      "source": [
        "## Step 0: Set up the ResNets model\n",
        "As you have practiced to implement simple neural networks in Homework 1, we just prepare the implementation for you."
      ]
    },
    {
      "cell_type": "code",
      "execution_count": 1,
      "metadata": {},
      "outputs": [],
      "source": [
        "# import necessary dependencies\n",
        "import argparse\n",
        "import os, sys\n",
        "import time\n",
        "import datetime\n",
        "from tqdm import tqdm_notebook as tqdm\n",
        "\n",
        "import torch\n",
        "import torch.nn as nn\n",
        "import torch.nn.functional as F"
      ]
    },
    {
      "cell_type": "code",
      "execution_count": 2,
      "metadata": {},
      "outputs": [],
      "source": [
        "# define the ResNets mode;\n",
        "class BasicBlock(nn.Module):\n",
        "    expansion = 4\n",
        "    def __init__(self,input1,output,kernel,s,downsample=None):\n",
        "        super(BasicBlock,self).__init__()\n",
        "        self.conv1 = nn.Conv2d(input1,output,kernel,stride =s ,padding = 1)\n",
        "        self.conv1bn = nn.BatchNorm2d(output)\n",
        "        self.conv2 = nn.Conv2d(output,output,kernel,stride =1 ,padding = 1)\n",
        "        self.conv2bn = nn.BatchNorm2d(output)\n",
        "        self.shortcut = nn.Sequential()\n",
        "        self.out_filter = output\n",
        "        self.stride = s\n",
        "        self.downsample = downsample\n",
        "    def forward(self,x):\n",
        "        out = self.conv1(x)\n",
        "        out = F.relu(self.conv1bn(out))\n",
        "        out = self.conv2(out)\n",
        "        # if self.stride != 1:\n",
        "        #     x = F.pad(x[:, :, ::2, ::2], [0, 0, 0, 0, self.out_filter // 4, self.out_filter // 4], \"constant\", 0)\n",
        "        residual = x\n",
        "        if self.downsample:\n",
        "            residual = self.downsample(x)\n",
        "    \n",
        "        out = self.conv2bn(out) + residual\n",
        "#         out = out+x\n",
        "        out = F.relu(out)\n",
        "        return out\n",
        "class ResNets(nn.Module):\n",
        "    def __init__(self):\n",
        "        super(ResNets,self).__init__()\n",
        "        self.conv1 = nn.Conv2d(3,16,3,stride =1 ,padding = 1)\n",
        "        self.block1 = self.make_layers(3,16,16,3,1)\n",
        "        self.block2 = self.make_layers(3,16,32,3,2)\n",
        "        self.block3 = self.make_layers(3,32,64,3,2)\n",
        "        self.fc = nn.Linear(64,10)\n",
        "    def make_layers(self, num_block, input1, output,kernel, s):\n",
        "        layers = []\n",
        "        downsample = None\n",
        "        if s != 1 or input1 != output:\n",
        "            downsample = nn.Sequential(nn.Conv2d(input1, output, kernel, stride=s,padding=1),\n",
        "                nn.BatchNorm2d(output))\n",
        "        for i in range(num_block):\n",
        "            if i == 0:\n",
        "                layers.append(BasicBlock(input1, output,kernel, s,downsample))\n",
        "            else:\n",
        "                layers.append(BasicBlock(output, output,kernel, 1))\n",
        "        return nn.Sequential(*layers)\n",
        "    def forward(self, x):\n",
        "        out = F.relu(self.conv1(x))\n",
        "        out = self.block1(out)\n",
        "        out = self.block2(out)\n",
        "        out = self.block3(out)\n",
        "        out = F.avg_pool2d(out,out.size()[3])\n",
        "        out = out.view(out.size(0), -1)\n",
        "        out = self.fc(out)\n",
        "        out = F.softmax(out, dim=1) # Force the output to be in (0, 1), otherwise beta function cannot work\n",
        "\n",
        "        assert ~((0 in out) or (1 in out)), 'softmax output breaks'\n",
        "\n",
        "        return out"
      ]
    },
    {
      "cell_type": "markdown",
      "metadata": {},
      "source": [
        "## Step 1: Set up preprocessing functions\n",
        "Preprocessing is very important as discussed in the lecture.\n",
        "You will need to write preprocessing functions with the help of *torchvision.transforms* in this step.\n",
        "You can find helpful tutorial/API at [here](https://pytorch.org/vision/stable/transforms.html)."
      ]
    },
    {
      "cell_type": "markdown",
      "metadata": {},
      "source": [
        "### Question (b)\n",
        "For the question, you need to:\n",
        "1. Complete the preprocessing code below.\n",
        "2. **In the PDF report**, briefly describe what preprocessing operations you used and what are the purposes of them.\n",
        "\n",
        "Hint: \n",
        "1. Only two operations are necessary to complete the basic preprocessing here.\n",
        "2. The raw input read from the dataset will be PIL images.\n",
        "3. Data augmentation operations are not mendatory, but feel free to incorporate them if you want.\n",
        "4. Reference value for mean/std of CIFAR-10 images (assuming the pixel values are within [0,1]): mean (RGB-format): (0.4914, 0.4822, 0.4465), std (RGB-format): (0.2023, 0.1994, 0.2010)"
      ]
    },
    {
      "cell_type": "code",
      "execution_count": 3,
      "metadata": {},
      "outputs": [],
      "source": [
        "# useful libraries\n",
        "import torchvision\n",
        "import torchvision.transforms as transforms\n",
        "\n",
        "#############################################\n",
        "# your code here\n",
        "# specify preprocessing function\n",
        "transform_train = transforms.Compose([\n",
        "    transforms.RandomHorizontalFlip(),\n",
        "    transforms.RandomCrop(size=(32,32),padding = 4),\n",
        "    transforms.ToTensor(),\n",
        "    transforms.Normalize((0.4914, 0.4822, 0.4465), (0.2023, 0.1994, 0.2010))\n",
        "])\n",
        "\n",
        "transform_val = transforms.Compose([\n",
        "    transforms.ToTensor(),\n",
        "    transforms.Normalize((0.4914, 0.4822, 0.4465), (0.2023, 0.1994, 0.2010)),\n",
        "])\n",
        "#############################################"
      ]
    },
    {
      "cell_type": "markdown",
      "metadata": {},
      "source": [
        "## Step 2: Set up dataset and dataloader\n",
        "\n",
        "### Question (c)\n",
        "Set up the train/val datasets and dataloders that are to be used during the training. Check out the [official API](https://pytorch.org/docs/stable/data.html) for more information about **torch.utils.data.DataLoader**.\n",
        "\n",
        "Here, you need to:\n",
        "1. Complete the code below."
      ]
    },
    {
      "cell_type": "code",
      "execution_count": 4,
      "metadata": {},
      "outputs": [
        {
          "name": "stdout",
          "output_type": "stream",
          "text": [
            "Using downloaded and verified file: ./data/cifar10_trainval_F21.zip\n",
            "Extracting ./data/cifar10_trainval_F21.zip to ./data\n",
            "Files already downloaded and verified\n",
            "Using downloaded and verified file: ./data/cifar10_trainval_F21.zip\n",
            "Extracting ./data/cifar10_trainval_F21.zip to ./data\n",
            "Files already downloaded and verified\n",
            "Using downloaded and verified file: ./data/cifar10_test_F21.zip\n",
            "Extracting ./data/cifar10_test_F21.zip to ./data\n",
            "Files already downloaded and verified\n",
            "45000\n",
            "iter num  352\n"
          ]
        }
      ],
      "source": [
        "# do NOT change these\n",
        "from tools.dataset import CIFAR10\n",
        "from torch.utils.data import DataLoader\n",
        "\n",
        "# a few arguments, do NOT change these\n",
        "DATA_ROOT = \"./data\"\n",
        "TRAIN_BATCH_SIZE = 128\n",
        "VAL_BATCH_SIZE = 100\n",
        "\n",
        "#############################################\n",
        "# your code here\n",
        "from torchvision.transforms import ToTensor\n",
        "# construct dataset\n",
        "train_set = CIFAR10(\n",
        "    root=DATA_ROOT, \n",
        "    mode='train', \n",
        "    download=True,\n",
        "    transform=transform_train    # your code\n",
        ")\n",
        "val_set = CIFAR10(\n",
        "    root=DATA_ROOT, \n",
        "    mode='val', \n",
        "    download=True,\n",
        "    transform=transform_val     # your code\n",
        ")\n",
        "test_set = CIFAR10(\n",
        "    root=DATA_ROOT, \n",
        "    mode='test', \n",
        "    download=True,\n",
        "    transform=transform_val\n",
        ")\n",
        "# construct dataloader\n",
        "train_loader = DataLoader(\n",
        "    train_set, \n",
        "    batch_size=TRAIN_BATCH_SIZE,  # your code\n",
        "    shuffle=True,     # your code\n",
        "    num_workers=4\n",
        ")\n",
        "print(len(train_set))\n",
        "print(\"iter num \" ,len(train_loader))\n",
        "val_loader = DataLoader(\n",
        "    val_set, \n",
        "    batch_size=VAL_BATCH_SIZE,  # your code\n",
        "    shuffle= True,     # your code\n",
        "    num_workers=4\n",
        ")\n",
        "test_loader = DataLoader(\n",
        "    test_set, batch_size=100, shuffle=False, num_workers=1)\n",
        "#############################################"
      ]
    },
    {
      "cell_type": "markdown",
      "metadata": {},
      "source": [
        "## Step 3: Instantiate your ResNets model and deploy it to GPU devices.\n",
        "### Question (d)\n",
        "You may want to deploy your model to GPU device for efficient training. Please assign your model to GPU if possible. If you are training on a machine without GPUs, please deploy your model to CPUs.\n",
        "\n",
        "Here, you need to:\n",
        "1. Complete the code below.\n",
        "2. **In the PDF report**, briefly describe how you verify that your model is indeed deployed on GPU. (Hint: check $\\texttt{nvidia-smi}$.)"
      ]
    },
    {
      "cell_type": "code",
      "execution_count": 5,
      "metadata": {},
      "outputs": [
        {
          "name": "stdout",
          "output_type": "stream",
          "text": [
            "Using device: cuda\n"
          ]
        }
      ],
      "source": [
        "# specify the device for computation\n",
        "#############################################\n",
        "# your code here\n",
        "device = 'cuda' if torch.cuda.is_available() else 'cpu'\n",
        "# Model Definition  \n",
        "net = ResNets()\n",
        "net = net.to(device)\n",
        "print('Using device:', device)\n",
        "# nvidia-smi\n",
        "#############################################"
      ]
    },
    {
      "cell_type": "markdown",
      "metadata": {},
      "source": [
        "## Step 4: Set up the loss function and optimizer\n",
        "Loss function/objective function is used to provide \"feedback\" for the neural networks. Typically, we use multi-class cross-entropy as the loss function for classification models. As for the optimizer, we will use SGD with momentum. "
      ]
    },
    {
      "cell_type": "markdown",
      "metadata": {},
      "source": [
        "### Question (e)\n",
        "Here, you need to:\n",
        "1. Set up the cross-entropy loss as the criterion. (Hint: there are implemented functions in **torch.nn**)\n",
        "2. Specify a SGD optimizer with momentum. (Hint: there are implemented functions in **torch.optim**)"
      ]
    },
    {
      "cell_type": "code",
      "execution_count": 6,
      "metadata": {},
      "outputs": [],
      "source": [
        "import torch.nn as nn\n",
        "import numpy as np\n",
        "import torch.optim as optim\n",
        "from torch.optim.lr_scheduler import ReduceLROnPlateau\n",
        "from torch.optim.lr_scheduler import MultiStepLR\n",
        "# hyperparameters, do NOT change right now\n",
        "# initial learning rat\n",
        "INITIAL_LR = 0.1\n",
        "\n",
        "# momentum for optimizer\n",
        "MOMENTUM = 0.9\n",
        "\n",
        "# L2 regularization strength\n",
        "REG = 1e-4\n",
        "# REG = 5e-4\n",
        "\n",
        "#############################################\n",
        "# your code here\n",
        "# create loss function\n",
        "criterion = nn.CrossEntropyLoss()\n",
        "\n",
        "# Add optimizer\n",
        "optimizer = optim.SGD(net.parameters(), lr=INITIAL_LR, momentum=MOMENTUM,weight_decay=REG,nesterov=True)\n",
        "scheduler = ReduceLROnPlateau(optimizer, factor=0.1,threshold = 1e-4,patience=8, verbose=True)\n",
        "# Scheduler based on the paper \"Batch shaping\" for cifar-10 with ResNet-20\n",
        "# scheduler = MultiStepLR(optimizer, milestones=[300, 375, 450], gamma=0.1)\n",
        "#############################################"
      ]
    },
    {
      "cell_type": "markdown",
      "metadata": {},
      "source": [
        "## Step 5: Start the training process.\n",
        "\n",
        "### Question (f)/(g)\n",
        "Congratulations! You have completed all of the previous steps and it is time to train our neural network.\n",
        "\n",
        "Here you need to:\n",
        "1. Complete the training codes.\n",
        "2. Actually perform the training.\n",
        "\n",
        "Hint: Training a neural network usually repeats the following 4 steps: \n",
        "\n",
        "**i) Get a batch of data from the dataloader and copy it to your device (GPU).**\n",
        "\n",
        "**ii) Do a forward pass to get the outputs from the neural network and compute the loss. Be careful about your inputs to the loss function. Are the inputs required to be the logits or softmax probabilities?)**\n",
        "\n",
        "**iii) Do a backward pass (back-propagation) to compute gradients of all weights with respect to the loss.**\n",
        "\n",
        "**iiii) Update the model weights with the optimizer.**\n",
        "\n",
        "You will also need to compute the accuracy of training/validation samples to track your model's performance over each epoch (the accuracy should be increasing as you train for more and more epochs)."
      ]
    },
    {
      "cell_type": "code",
      "execution_count": 7,
      "metadata": {},
      "outputs": [],
      "source": [
        "# from scipy.stats import beta as sci_beta\n",
        "from scipy.stats import betabinom as sci_beta\n",
        "N = 1000"
      ]
    },
    {
      "cell_type": "code",
      "execution_count": 8,
      "metadata": {},
      "outputs": [],
      "source": [
        "# Batch shaping loss\n",
        "# @brief A function compute batch shaping loss based on beta CDF\n",
        "# @param x: gating output\n",
        "# @param gamma: loss factor\n",
        "# @param alpha, beta: Beta distribution parameters\n",
        "# @param batch_size: batch size\n",
        "# @reutrn loss: batch shaping loss\n",
        "\n",
        "# Loss stregth from the paper, alpha, beta from wiki\n",
        "GAMMA=0.75\n",
        "ALPHA=0.5\n",
        "BETA=ALPHA\n",
        "# BETA=5\n",
        "\n",
        "# def bs_loss(x, gamma, alpha, beta, batch_size):\n",
        "#     loss = 0\n",
        "#     x_dup = x.clone().detach().cpu().numpy()\n",
        "#     for i in range(x.shape[0]):\n",
        "#         x_sort = np.sort(x_dup[i].flatten()) # TODO: Check for dimension correctness\n",
        "#         p_cdf = sci_beta.cdf(x_sort, alpha, beta)\n",
        "#         e_cdf = np.linspace(1, 1+batch_size, 1) / (batch_size+1)\n",
        "#         loss = loss + np.sum(np.power(e_cdf - p_cdf, 2)).item()\n",
        "#     return loss * gamma"
      ]
    },
    {
      "cell_type": "code",
      "execution_count": 9,
      "metadata": {},
      "outputs": [],
      "source": [
        "# Customized loss function: Batch shaping loss\n",
        "\n",
        "class Batch_Shaping_Loss(torch.autograd.Function):\n",
        "    @staticmethod\n",
        "    def forward(ctx, x, gamma, alpha, beta, batch_size):\n",
        "\n",
        "        assert torch.max(x) <= 1 or torch.min(x) >= 0, \\\n",
        "            'output values after softmax should be in (0, 1),'\\\n",
        "            ' beta func only produce meaningful output with input in (0, 1),'\\\n",
        "            ' output max = {}, min = {}'.format(torch.max(x), torch.min(x))\n",
        "\n",
        "\n",
        "        loss = 0\n",
        "        loss = torch.autograd.Variable(torch.tensor(loss))\n",
        "        x_dup = x.clone().detach().cpu().numpy()\n",
        "\n",
        "        # x_dup = F.softmax(x_dup)\n",
        "\n",
        "        p_cdf_list = []\n",
        "        p_pdf_list = []\n",
        "        e_cdf_list = []\n",
        "        x_idx_list = []\n",
        "        \n",
        "        for i in range(x.shape[0]):\n",
        "            x_sort = np.sort(x_dup[i].flatten()) # TODO: Check for dimension correctness\n",
        "            x_idx = np.argsort(x_dup[i].flatten())\n",
        "            # p_cdf = sci_beta.cdf(x_sort, alpha, beta)\n",
        "            p_cdf = sci_beta.cdf(N,x_sort, alpha, beta)\n",
        "            e_cdf = np.linspace(1, 1+batch_size, 1) / (batch_size+1)\n",
        "            loss = loss + np.sum(np.power(e_cdf - p_cdf, 2)).item()\n",
        "            \n",
        "            \n",
        "            # Store for backward\n",
        "            assert ~((1 in x_sort) or (0 in x_sort)), 'input of pdf breaks'\n",
        "            # p_pdf = sci_beta.pdf(x_sort, alpha, beta)\n",
        "            p_pdf = sci_beta.pmf(N,x_sort, alpha, beta)\n",
        "            \n",
        "            p_cdf_list.append(torch.tensor(p_cdf))\n",
        "            p_pdf_list.append(torch.tensor(p_pdf))\n",
        "            e_cdf_list.append(torch.tensor(e_cdf))\n",
        "            x_idx_list.append(torch.tensor(x_idx))\n",
        "        \n",
        "        # Save parameter for backward use\n",
        "        # The function only accpets Variable as input, stack all tensors in a list\n",
        "        p_cdf_stack = torch.stack(p_cdf_list)\n",
        "        p_pdf_stack = torch.stack(p_pdf_list)\n",
        "        e_cdf_stack = torch.stack(e_cdf_list)\n",
        "        x_idx_stack = torch.stack(x_idx_list)\n",
        "        ctx.save_for_backward(p_cdf_stack, p_pdf_stack, e_cdf_stack, x_idx_stack)\n",
        "        \n",
        "        assert ~torch.isnan(loss), 'loss should not be nan'\n",
        "        \n",
        "        return loss * gamma\n",
        "    @staticmethod\n",
        "    def backward(ctx, grad):\n",
        "        # Read parameter from backward\n",
        "        p_cdf_stack, p_pdf_stack, e_cdf_stack, x_idx_stack = ctx.saved_tensors\n",
        "        # Split the stack into lists of tensors\n",
        "        p_cdf_list = list(torch.split(p_cdf_stack, 1))\n",
        "        p_pdf_list = list(torch.split(p_pdf_stack, 1))\n",
        "        e_cdf_list = list(torch.split(e_cdf_stack, 1))\n",
        "        x_idx_list = list(torch.split(x_idx_stack, 1))\n",
        "\n",
        "        bs_grad_list = []\n",
        "        for i in range(len(p_cdf_list)):\n",
        "            # Remove redundant dimension (caused by stacking) by squeezing\n",
        "            p_cdf = torch.squeeze(p_cdf_list[i]).numpy()\n",
        "            p_pdf = torch.squeeze(p_pdf_list[i]).numpy()\n",
        "            e_cdf = torch.squeeze(e_cdf_list[i]).numpy()\n",
        "            x_idx = torch.squeeze(x_idx_list[i]).numpy()\n",
        "            p_pdf = np.nan_to_num(p_pdf)\n",
        "            assert ~np.any(~np.isfinite(p_cdf)), 'p_cdf error, value = {}'.format(p_cdf)\n",
        "            assert ~np.any(~np.isfinite(p_pdf)), 'p_pdf error, value = {}'.format(p_pdf)\n",
        "            assert ~np.any(~np.isfinite(e_cdf)), 'e_cdf error, value = {}'.format(e_cdf)\n",
        "            # bs_grad = -2 * p_pdf * (e_cdf - p_cdf)\n",
        "            bs_grad = -2 * (e_cdf - p_cdf)\n",
        "            bs_grad = np.nan_to_num(bs_grad)\n",
        "            # Undo sort\n",
        "            bs_grad_unsort = [bs_grad[i] for i in x_idx]\n",
        "            bs_grad_list.append(torch.tensor(bs_grad_unsort))\n",
        "        # The function is not using imput grad since it\n",
        "        # is applied at the end of the model as a loss funciton\n",
        "        bs_grad_stack = torch.autograd.Variable(torch.stack(bs_grad_list))\n",
        "        bs_grad_stack = bs_grad_stack.to(device)\n",
        "        assert ~torch.any(~torch.isfinite(bs_grad_stack)), 'gradient should not be too large, now is {}'.format(torch.max(bs_grad_stack))\n",
        "        assert ~torch.any(torch.isnan(bs_grad_stack)), 'gradient should not be nan'\n",
        "        return bs_grad_stack, None, None, None, None\n",
        "\n",
        "bs_loss = Batch_Shaping_Loss.apply"
      ]
    },
    {
      "cell_type": "code",
      "execution_count": 10,
      "metadata": {},
      "outputs": [
        {
          "name": "stdout",
          "output_type": "stream",
          "text": [
            "==> Training starts!\n",
            "==================================================\n",
            "\n",
            "Epoch [1/80]\n",
            "Epoch 1:\n",
            "Training loss: 946.1249, Training accuracy: 0.3253\n",
            "Validation loss: 2.1176, Validation accuracy: 0.3340\n",
            "Saving ...\n",
            "\n",
            "\n",
            "Epoch [2/80]\n",
            "Epoch 2:\n",
            "Training loss: 946.0096, Training accuracy: 0.4470\n",
            "Validation loss: 2.0180, Validation accuracy: 0.4352\n",
            "Saving ...\n",
            "\n",
            "\n",
            "Epoch [3/80]\n",
            "Epoch 3:\n",
            "Training loss: 945.9365, Training accuracy: 0.5226\n",
            "Validation loss: 1.9416, Validation accuracy: 0.5142\n",
            "Saving ...\n",
            "\n",
            "\n",
            "Epoch [4/80]\n",
            "Epoch 4:\n",
            "Training loss: 945.9007, Training accuracy: 0.5577\n",
            "Validation loss: 1.9472, Validation accuracy: 0.5074\n",
            "\n",
            "\n",
            "Epoch [5/80]\n",
            "Epoch 5:\n",
            "Training loss: 945.8679, Training accuracy: 0.5906\n",
            "Validation loss: 1.9206, Validation accuracy: 0.5378\n",
            "Saving ...\n",
            "\n",
            "\n",
            "Epoch [6/80]\n",
            "Epoch 6:\n",
            "Training loss: 945.8464, Training accuracy: 0.6134\n",
            "Validation loss: 1.8462, Validation accuracy: 0.6142\n",
            "Saving ...\n",
            "\n",
            "\n",
            "Epoch [7/80]\n",
            "Epoch 7:\n",
            "Training loss: 945.8057, Training accuracy: 0.6558\n",
            "Validation loss: 1.8454, Validation accuracy: 0.6162\n",
            "Saving ...\n",
            "\n",
            "\n",
            "Epoch [8/80]\n",
            "Epoch 8:\n",
            "Training loss: 945.7789, Training accuracy: 0.6823\n",
            "Validation loss: 1.7920, Validation accuracy: 0.6680\n",
            "Saving ...\n",
            "\n",
            "\n",
            "Epoch [9/80]\n",
            "Epoch 9:\n",
            "Training loss: 945.7646, Training accuracy: 0.6980\n",
            "Validation loss: 1.8089, Validation accuracy: 0.6494\n",
            "\n",
            "\n",
            "Epoch [10/80]\n",
            "Epoch 10:\n",
            "Training loss: 945.7494, Training accuracy: 0.7131\n",
            "Validation loss: 1.7649, Validation accuracy: 0.6954\n",
            "Saving ...\n",
            "\n",
            "\n",
            "Epoch [11/80]\n",
            "Epoch 11:\n",
            "Training loss: 945.7355, Training accuracy: 0.7268\n",
            "Validation loss: 1.7653, Validation accuracy: 0.6946\n",
            "\n",
            "\n",
            "Epoch [12/80]\n",
            "Epoch 12:\n",
            "Training loss: 945.7236, Training accuracy: 0.7379\n",
            "Validation loss: 1.7386, Validation accuracy: 0.7208\n",
            "Saving ...\n",
            "\n",
            "\n",
            "Epoch [13/80]\n",
            "Epoch 13:\n",
            "Training loss: 945.7142, Training accuracy: 0.7493\n",
            "Validation loss: 1.7443, Validation accuracy: 0.7146\n",
            "\n",
            "\n",
            "Epoch [14/80]\n",
            "Epoch 14:\n",
            "Training loss: 945.7105, Training accuracy: 0.7519\n",
            "Validation loss: 1.7458, Validation accuracy: 0.7138\n",
            "\n",
            "\n",
            "Epoch [15/80]\n",
            "Epoch 15:\n",
            "Training loss: 945.7009, Training accuracy: 0.7621\n",
            "Validation loss: 1.7197, Validation accuracy: 0.7380\n",
            "Saving ...\n",
            "\n",
            "\n",
            "Epoch [16/80]\n",
            "Epoch 16:\n",
            "Training loss: 945.6953, Training accuracy: 0.7674\n",
            "Validation loss: 1.6843, Validation accuracy: 0.7778\n",
            "Saving ...\n",
            "\n",
            "\n",
            "Epoch [17/80]\n",
            "Epoch 17:\n",
            "Training loss: 945.6898, Training accuracy: 0.7724\n",
            "Validation loss: 1.7031, Validation accuracy: 0.7576\n",
            "\n",
            "\n",
            "Epoch [18/80]\n",
            "Epoch 18:\n",
            "Training loss: 945.6884, Training accuracy: 0.7744\n",
            "Validation loss: 1.7113, Validation accuracy: 0.7504\n",
            "\n",
            "\n",
            "Epoch [19/80]\n",
            "Epoch 19:\n",
            "Training loss: 945.6822, Training accuracy: 0.7798\n",
            "Validation loss: 1.6970, Validation accuracy: 0.7628\n",
            "\n",
            "\n",
            "Epoch [20/80]\n",
            "Epoch 20:\n",
            "Training loss: 945.6732, Training accuracy: 0.7903\n",
            "Validation loss: 1.6858, Validation accuracy: 0.7754\n",
            "\n",
            "\n",
            "Epoch [21/80]\n",
            "Epoch 21:\n",
            "Training loss: 945.6706, Training accuracy: 0.7925\n",
            "Validation loss: 1.7026, Validation accuracy: 0.7586\n",
            "\n",
            "\n",
            "Epoch [22/80]\n",
            "Epoch 22:\n",
            "Training loss: 945.6698, Training accuracy: 0.7935\n",
            "Validation loss: 1.6883, Validation accuracy: 0.7728\n",
            "\n",
            "\n",
            "Epoch [23/80]\n",
            "Epoch 23:\n",
            "Training loss: 945.6658, Training accuracy: 0.7973\n",
            "Validation loss: 1.7279, Validation accuracy: 0.7312\n",
            "\n",
            "\n",
            "Epoch [24/80]\n",
            "Epoch 24:\n",
            "Training loss: 945.6619, Training accuracy: 0.8015\n",
            "Validation loss: 1.6877, Validation accuracy: 0.7746\n",
            "\n",
            "\n",
            "Epoch [25/80]\n",
            "Epoch 25:\n",
            "Training loss: 945.6614, Training accuracy: 0.8023\n",
            "Validation loss: 1.7077, Validation accuracy: 0.7528\n",
            "Epoch    25: reducing learning rate of group 0 to 1.0000e-02.\n",
            "\n",
            "\n",
            "Epoch [26/80]\n",
            "Epoch 26:\n",
            "Training loss: 945.6309, Training accuracy: 0.8319\n",
            "Validation loss: 1.6206, Validation accuracy: 0.8422\n",
            "Saving ...\n",
            "\n",
            "\n",
            "Epoch [27/80]\n",
            "Epoch 27:\n",
            "Training loss: 945.6163, Training accuracy: 0.8476\n",
            "Validation loss: 1.6176, Validation accuracy: 0.8454\n",
            "Saving ...\n",
            "\n",
            "\n",
            "Epoch [28/80]\n",
            "Epoch 28:\n",
            "Training loss: 945.6120, Training accuracy: 0.8515\n",
            "Validation loss: 1.6171, Validation accuracy: 0.8436\n",
            "\n",
            "\n",
            "Epoch [29/80]\n",
            "Epoch 29:\n",
            "Training loss: 945.6085, Training accuracy: 0.8548\n",
            "Validation loss: 1.6145, Validation accuracy: 0.8476\n",
            "Saving ...\n",
            "\n",
            "\n",
            "Epoch [30/80]\n",
            "Epoch 30:\n",
            "Training loss: 945.6050, Training accuracy: 0.8588\n",
            "Validation loss: 1.6103, Validation accuracy: 0.8542\n",
            "Saving ...\n",
            "\n",
            "\n",
            "Epoch [31/80]\n",
            "Epoch 31:\n",
            "Training loss: 945.6019, Training accuracy: 0.8614\n",
            "Validation loss: 1.6118, Validation accuracy: 0.8488\n",
            "\n",
            "\n",
            "Epoch [32/80]\n",
            "Epoch 32:\n",
            "Training loss: 945.6006, Training accuracy: 0.8628\n",
            "Validation loss: 1.6099, Validation accuracy: 0.8512\n",
            "\n",
            "\n",
            "Epoch [33/80]\n",
            "Epoch 33:\n",
            "Training loss: 945.5988, Training accuracy: 0.8657\n",
            "Validation loss: 1.6095, Validation accuracy: 0.8514\n",
            "\n",
            "\n",
            "Epoch [34/80]\n",
            "Epoch 34:\n",
            "Training loss: 945.5974, Training accuracy: 0.8659\n",
            "Validation loss: 1.6077, Validation accuracy: 0.8568\n",
            "Saving ...\n",
            "\n",
            "\n",
            "Epoch [35/80]\n",
            "Epoch 35:\n",
            "Training loss: 945.5941, Training accuracy: 0.8706\n",
            "Validation loss: 1.6060, Validation accuracy: 0.8558\n",
            "\n",
            "\n",
            "Epoch [36/80]\n",
            "Epoch 36:\n",
            "Training loss: 945.5941, Training accuracy: 0.8712\n",
            "Validation loss: 1.6057, Validation accuracy: 0.8566\n",
            "\n",
            "\n",
            "Epoch [37/80]\n",
            "Epoch 37:\n",
            "Training loss: 945.5927, Training accuracy: 0.8723\n",
            "Validation loss: 1.6104, Validation accuracy: 0.8516\n",
            "\n",
            "\n",
            "Epoch [38/80]\n",
            "Epoch 38:\n",
            "Training loss: 945.5906, Training accuracy: 0.8736\n",
            "Validation loss: 1.6075, Validation accuracy: 0.8518\n",
            "\n",
            "\n",
            "Epoch [39/80]\n",
            "Epoch 39:\n",
            "Training loss: 945.5904, Training accuracy: 0.8734\n",
            "Validation loss: 1.6076, Validation accuracy: 0.8544\n",
            "\n",
            "\n",
            "Epoch [40/80]\n",
            "Epoch 40:\n",
            "Training loss: 945.5878, Training accuracy: 0.8762\n",
            "Validation loss: 1.6045, Validation accuracy: 0.8580\n",
            "Saving ...\n",
            "\n",
            "\n",
            "Epoch [41/80]\n",
            "Epoch 41:\n",
            "Training loss: 945.5875, Training accuracy: 0.8768\n",
            "Validation loss: 1.6025, Validation accuracy: 0.8604\n",
            "Saving ...\n",
            "\n",
            "\n",
            "Epoch [42/80]\n",
            "Epoch 42:\n",
            "Training loss: 945.5873, Training accuracy: 0.8771\n",
            "Validation loss: 1.6034, Validation accuracy: 0.8588\n",
            "\n",
            "\n",
            "Epoch [43/80]\n",
            "Epoch 43:\n",
            "Training loss: 945.5868, Training accuracy: 0.8770\n",
            "Validation loss: 1.6070, Validation accuracy: 0.8560\n",
            "\n",
            "\n",
            "Epoch [44/80]\n",
            "Epoch 44:\n",
            "Training loss: 945.5835, Training accuracy: 0.8817\n",
            "Validation loss: 1.6018, Validation accuracy: 0.8614\n",
            "Saving ...\n",
            "\n",
            "\n",
            "Epoch [45/80]\n",
            "Epoch 45:\n",
            "Training loss: 945.5840, Training accuracy: 0.8814\n",
            "Validation loss: 1.6019, Validation accuracy: 0.8596\n",
            "\n",
            "\n",
            "Epoch [46/80]\n",
            "Epoch 46:\n",
            "Training loss: 945.5826, Training accuracy: 0.8824\n",
            "Validation loss: 1.5995, Validation accuracy: 0.8614\n",
            "\n",
            "\n",
            "Epoch [47/80]\n",
            "Epoch 47:\n",
            "Training loss: 945.5814, Training accuracy: 0.8830\n",
            "Validation loss: 1.6039, Validation accuracy: 0.8578\n",
            "\n",
            "\n",
            "Epoch [48/80]\n",
            "Epoch 48:\n",
            "Training loss: 945.5819, Training accuracy: 0.8830\n",
            "Validation loss: 1.6023, Validation accuracy: 0.8620\n",
            "Saving ...\n",
            "\n",
            "\n",
            "Epoch [49/80]\n",
            "Epoch 49:\n",
            "Training loss: 945.5796, Training accuracy: 0.8851\n",
            "Validation loss: 1.6010, Validation accuracy: 0.8588\n",
            "\n",
            "\n",
            "Epoch [50/80]\n",
            "Epoch 50:\n",
            "Training loss: 945.5776, Training accuracy: 0.8868\n",
            "Validation loss: 1.6031, Validation accuracy: 0.8574\n",
            "\n",
            "\n",
            "Epoch [51/80]\n",
            "Epoch 51:\n",
            "Training loss: 945.5775, Training accuracy: 0.8872\n",
            "Validation loss: 1.6002, Validation accuracy: 0.8618\n",
            "\n",
            "\n",
            "Epoch [52/80]\n",
            "Epoch 52:\n",
            "Training loss: 945.5746, Training accuracy: 0.8902\n",
            "Validation loss: 1.5986, Validation accuracy: 0.8638\n",
            "Saving ...\n",
            "\n",
            "\n",
            "Epoch [53/80]\n",
            "Epoch 53:\n",
            "Training loss: 945.5753, Training accuracy: 0.8899\n",
            "Validation loss: 1.5969, Validation accuracy: 0.8658\n",
            "Saving ...\n",
            "\n",
            "\n",
            "Epoch [54/80]\n",
            "Epoch 54:\n",
            "Training loss: 945.5744, Training accuracy: 0.8900\n",
            "Validation loss: 1.5960, Validation accuracy: 0.8656\n",
            "\n",
            "\n",
            "Epoch [55/80]\n",
            "Epoch 55:\n",
            "Training loss: 945.5734, Training accuracy: 0.8919\n",
            "Validation loss: 1.5962, Validation accuracy: 0.8660\n",
            "Saving ...\n",
            "\n",
            "\n",
            "Epoch [56/80]\n",
            "Epoch 56:\n",
            "Training loss: 945.5712, Training accuracy: 0.8933\n",
            "Validation loss: 1.6006, Validation accuracy: 0.8622\n",
            "\n",
            "\n",
            "Epoch [57/80]\n",
            "Epoch 57:\n",
            "Training loss: 945.5718, Training accuracy: 0.8924\n",
            "Validation loss: 1.5971, Validation accuracy: 0.8638\n",
            "\n",
            "\n",
            "Epoch [58/80]\n",
            "Epoch 58:\n",
            "Training loss: 945.5695, Training accuracy: 0.8954\n",
            "Validation loss: 1.5955, Validation accuracy: 0.8656\n",
            "\n",
            "\n",
            "Epoch [59/80]\n",
            "Epoch 59:\n",
            "Training loss: 945.5693, Training accuracy: 0.8953\n",
            "Validation loss: 1.5969, Validation accuracy: 0.8674\n",
            "Saving ...\n",
            "\n",
            "\n",
            "Epoch [60/80]\n",
            "Epoch 60:\n",
            "Training loss: 945.5692, Training accuracy: 0.8962\n",
            "Validation loss: 1.5970, Validation accuracy: 0.8664\n",
            "\n",
            "\n",
            "Epoch [61/80]\n",
            "Epoch 61:\n",
            "Training loss: 945.5673, Training accuracy: 0.8975\n",
            "Validation loss: 1.5953, Validation accuracy: 0.8656\n",
            "\n",
            "\n",
            "Epoch [62/80]\n",
            "Epoch 62:\n",
            "Training loss: 945.5673, Training accuracy: 0.8982\n",
            "Validation loss: 1.6001, Validation accuracy: 0.8628\n",
            "\n",
            "\n",
            "Epoch [63/80]\n",
            "Epoch 63:\n",
            "Training loss: 945.5674, Training accuracy: 0.8970\n",
            "Validation loss: 1.5944, Validation accuracy: 0.8660\n",
            "\n",
            "\n",
            "Epoch [64/80]\n",
            "Epoch 64:\n",
            "Training loss: 945.5660, Training accuracy: 0.8982\n",
            "Validation loss: 1.5972, Validation accuracy: 0.8628\n",
            "\n",
            "\n",
            "Epoch [65/80]\n",
            "Epoch 65:\n",
            "Training loss: 945.5650, Training accuracy: 0.9007\n",
            "Validation loss: 1.5939, Validation accuracy: 0.8674\n",
            "\n",
            "\n",
            "Epoch [66/80]\n",
            "Epoch 66:\n",
            "Training loss: 945.5630, Training accuracy: 0.9029\n",
            "Validation loss: 1.5934, Validation accuracy: 0.8702\n",
            "Saving ...\n",
            "\n",
            "\n",
            "Epoch [67/80]\n",
            "Epoch 67:\n",
            "Training loss: 945.5634, Training accuracy: 0.9014\n",
            "Validation loss: 1.5956, Validation accuracy: 0.8648\n",
            "\n",
            "\n",
            "Epoch [68/80]\n",
            "Epoch 68:\n",
            "Training loss: 945.5628, Training accuracy: 0.9018\n",
            "Validation loss: 1.5945, Validation accuracy: 0.8680\n",
            "\n",
            "\n",
            "Epoch [69/80]\n",
            "Epoch 69:\n",
            "Training loss: 945.5630, Training accuracy: 0.9016\n",
            "Validation loss: 1.5959, Validation accuracy: 0.8674\n",
            "\n",
            "\n",
            "Epoch [70/80]\n",
            "Epoch 70:\n",
            "Training loss: 945.5613, Training accuracy: 0.9036\n",
            "Validation loss: 1.5991, Validation accuracy: 0.8618\n",
            "\n",
            "\n",
            "Epoch [71/80]\n",
            "Epoch 71:\n",
            "Training loss: 945.5615, Training accuracy: 0.9029\n",
            "Validation loss: 1.5946, Validation accuracy: 0.8664\n",
            "\n",
            "\n",
            "Epoch [72/80]\n",
            "Epoch 72:\n",
            "Training loss: 945.5611, Training accuracy: 0.9034\n",
            "Validation loss: 1.5956, Validation accuracy: 0.8654\n",
            "\n",
            "\n",
            "Epoch [73/80]\n",
            "Epoch 73:\n",
            "Training loss: 945.5609, Training accuracy: 0.9036\n",
            "Validation loss: 1.5930, Validation accuracy: 0.8694\n",
            "\n",
            "\n",
            "Epoch [74/80]\n",
            "Epoch 74:\n",
            "Training loss: 945.5594, Training accuracy: 0.9055\n",
            "Validation loss: 1.5922, Validation accuracy: 0.8696\n",
            "\n",
            "\n",
            "Epoch [75/80]\n",
            "Epoch 75:\n",
            "Training loss: 945.5579, Training accuracy: 0.9074\n",
            "Validation loss: 1.5919, Validation accuracy: 0.8708\n",
            "Saving ...\n",
            "\n",
            "\n",
            "Epoch [76/80]\n",
            "Epoch 76:\n",
            "Training loss: 945.5572, Training accuracy: 0.9083\n",
            "Validation loss: 1.5943, Validation accuracy: 0.8696\n",
            "\n",
            "\n",
            "Epoch [77/80]\n",
            "Epoch 77:\n",
            "Training loss: 945.5571, Training accuracy: 0.9083\n",
            "Validation loss: 1.5873, Validation accuracy: 0.8762\n",
            "Saving ...\n",
            "\n",
            "\n",
            "Epoch [78/80]\n",
            "Epoch 78:\n",
            "Training loss: 945.5560, Training accuracy: 0.9091\n",
            "Validation loss: 1.5909, Validation accuracy: 0.8710\n",
            "\n",
            "\n",
            "Epoch [79/80]\n",
            "Epoch 79:\n",
            "Training loss: 945.5566, Training accuracy: 0.9082\n",
            "Validation loss: 1.5943, Validation accuracy: 0.8660\n",
            "\n",
            "\n",
            "Epoch [80/80]\n",
            "Epoch 80:\n",
            "Training loss: 945.5544, Training accuracy: 0.9104\n",
            "Validation loss: 1.5923, Validation accuracy: 0.8706\n",
            "\n",
            "==================================================\n",
            "==> Optimization finished! Best validation accuracy: 0.8762\n"
          ]
        }
      ],
      "source": [
        "# some hyperparameters\n",
        "# total number of training epochs\n",
        "EPOCHS = 80\n",
        "# learning rate decay policy\n",
        "\n",
        "# the folder where the trained model is saved\n",
        "CHECKPOINT_PATH = \"./saved_model\"\n",
        "\n",
        "# start the training/validation process\n",
        "# the process should take about 5 minutes on a GTX 1070-Ti\n",
        "# if the code is written efficiently.\n",
        "best_val_acc = 0\n",
        "current_learning_rate = INITIAL_LR\n",
        "print_total_loss = [[],[]]\n",
        "print(\"==> Training starts!\")\n",
        "print(\"=\"*50)\n",
        "for i in range(0, EPOCHS):\n",
        "    # handle the learning rate scheduler.\n",
        "    \n",
        "    #######################\n",
        "    # your code here\n",
        "    # switch to train mode\n",
        "    net.train()\n",
        "    print(\"\\nEpoch [{}/{}]\".format(i+1, EPOCHS))\n",
        "    #######################\n",
        "    \n",
        "    print(\"Epoch %d:\" %(i+1))\n",
        "    # this help you compute the training accuracy\n",
        "    total_examples = 0\n",
        "    correct_examples = 0\n",
        "\n",
        "    train_loss = 0 # track training loss if you want\n",
        "    \n",
        "    # Train the model for 1 epoch.\n",
        "    for batch_idx, (inputs, targets) in enumerate(train_loader):\n",
        "        ####################################\n",
        "        # your code here\n",
        "        # copy inputs to device\n",
        "        inputs = inputs.to(device)\n",
        "        targets = targets.to(device)\n",
        "        out = net(inputs)\n",
        "        out = torch.nan_to_num(out)\n",
        "        assert ~torch.any(torch.isnan(out)), 'network output should not be nan'\n",
        "        loss = criterion(out,targets) + bs_loss(out, GAMMA, ALPHA, BETA, TRAIN_BATCH_SIZE)\n",
        "        optimizer.zero_grad()\n",
        "        loss.backward()\n",
        "        optimizer.step()\n",
        "        _,predicted = torch.max(out, 1)\n",
        "        correct = predicted.eq(targets).sum()\n",
        "        train_loss+=loss\n",
        "        total_examples+=targets.shape[0]\n",
        "        correct_examples += correct.item()\n",
        "        ####################################\n",
        "                \n",
        "    avg_loss = train_loss / len(train_loader)\n",
        "    train_avg_acc = correct_examples / total_examples\n",
        "    print(\"Training loss: %.4f, Training accuracy: %.4f\" %(avg_loss, train_avg_acc))\n",
        "#     print(train_avg_acc)\n",
        "\n",
        "    # Validate on the validation dataset\n",
        "    #######################\n",
        "    # your code here\n",
        "    # switch to eval mode\n",
        "    net.eval()\n",
        "    \n",
        "    \n",
        "    #######################\n",
        "\n",
        "    # this help you compute the validation accuracy\n",
        "    total_examples = 0\n",
        "    correct_examples = 0\n",
        "    \n",
        "    val_loss = 0 # again, track the validation loss if you want\n",
        "\n",
        "    # disable gradient during validation, which can save GPU memory\n",
        "    with torch.no_grad():\n",
        "        for batch_idx, (inputs, targets) in enumerate(val_loader):\n",
        "            ####################################\n",
        "            # your code here\n",
        "            # copy inputs to device\n",
        "            inputs = inputs.to(device)\n",
        "            targets = targets.to(device)\n",
        "            out = net(inputs)\n",
        "            loss = criterion(out,targets)\n",
        "            _,predicted = torch.max(out, 1)\n",
        "            correct = predicted.eq(targets).sum()\n",
        "            val_loss+=loss\n",
        "            total_examples+=targets.shape[0]\n",
        "            correct_examples += correct.item()\n",
        "            ####################################\n",
        "\n",
        "    avg_loss = val_loss / len(val_loader)\n",
        "    avg_acc = correct_examples / total_examples\n",
        "    print(\"Validation loss: %.4f, Validation accuracy: %.4f\" % (avg_loss, avg_acc))\n",
        "    scheduler.step(avg_loss)\n",
        "    print_total_loss[0].append(train_avg_acc)\n",
        "    print_total_loss[1].append(avg_acc)\n",
        "    # save the model checkpoint\n",
        "    if avg_acc > best_val_acc:\n",
        "        best_val_acc = avg_acc\n",
        "        if not os.path.exists(CHECKPOINT_PATH):\n",
        "            os.makedirs(CHECKPOINT_PATH)\n",
        "        print(\"Saving ...\")\n",
        "        state = {'state_dict': net.state_dict(),\n",
        "                 'epoch': i,\n",
        "                 'lr': current_learning_rate}\n",
        "        torch.save(state, os.path.join(CHECKPOINT_PATH, 'ResNets_v2.pth'))\n",
        "        \n",
        "    print('')\n",
        "\n",
        "print(\"=\"*50)\n",
        "print(f\"==> Optimization finished! Best validation accuracy: {best_val_acc:.4f}\")\n",
        "\n",
        "net.eval()\n",
        "results = []\n",
        "with torch.no_grad():\n",
        "    for inputs in (test_loader):\n",
        "        inputs = inputs.to(device)\n",
        "        # Generate output from the DNN.\n",
        "        outputs = net(inputs)        \n",
        "        # Calculate predicted labels\n",
        "        _, predicted = torch.max(out, 1)\n",
        "        results.append(predicted.detach().cpu().numpy())\n",
        "results = np.array(results).flatten()\n",
        "with open('predictions_%.4f.csv'%(best_val_acc), 'w') as fp:\n",
        "    fp.write(\"Id,Label\\n\")\n",
        "    for i in range(len(results)):\n",
        "        fp.write(\"%d,%d\\n\" %(i, results[i]))"
      ]
    },
    {
      "cell_type": "code",
      "execution_count": null,
      "metadata": {},
      "outputs": [],
      "source": []
    },
    {
      "cell_type": "markdown",
      "metadata": {},
      "source": [
        "# Load Model"
      ]
    },
    {
      "cell_type": "code",
      "execution_count": 14,
      "metadata": {},
      "outputs": [
        {
          "data": {
            "text/plain": [
              "<All keys matched successfully>"
            ]
          },
          "execution_count": 14,
          "metadata": {},
          "output_type": "execute_result"
        }
      ],
      "source": [
        "# the folder where the trained model is saved\n",
        "CHECKPOINT_PATH = \"./saved_model\"\n",
        "\n",
        "net = ResNets()\n",
        "net = net.to(device)\n",
        "checkpoint = torch.load(os.path.join(CHECKPOINT_PATH, 'ResNets_v2.pth'))\n",
        "net.load_state_dict(checkpoint['state_dict'])"
      ]
    },
    {
      "cell_type": "markdown",
      "metadata": {},
      "source": [
        "## Test the model and plot the distribution"
      ]
    },
    {
      "cell_type": "code",
      "execution_count": 21,
      "metadata": {},
      "outputs": [],
      "source": [
        "import matplotlib.pyplot as plt\n",
        "\n",
        "def plot_dist(x):\n",
        "    x_dup = x.clone().detach().cpu().numpy()\n",
        "    for i in range(x.shape[0]):\n",
        "        x_sort = np.sort(x_dup[i].flatten())\n",
        "        p_cdf = sci_beta.cdf(N, x_sort, ALPHA, BETA)\n",
        "        print(x_sort)\n",
        "        plt.hist(x_sort, histtype=u'step', bins=10); plt.show(); plt.close()\n",
        "        plt.hist(x_sort, histtype=u'step', bins=10, cumulative=True); plt.show(); plt.close()\n",
        "        print(p_cdf)\n",
        "        plt.hist(p_cdf, histtype=u'step', bins=10); plt.show(); plt.close()\n",
        "        plt.hist(p_cdf, histtype=u'step', bins=10, cumulative=True); plt.show(); plt.close()\n"
      ]
    },
    {
      "cell_type": "code",
      "execution_count": 22,
      "metadata": {},
      "outputs": [
        {
          "name": "stdout",
          "output_type": "stream",
          "text": [
            "[2.47594480e-13 3.01211174e-11 3.13196274e-11 4.58187967e-11\n",
            " 1.10792965e-10 5.23349453e-09 1.87675457e-08 1.91827553e-07\n",
            " 6.54435155e-07 9.99999166e-01]\n"
          ]
        },
        {
          "data": {
            "image/png": "[encoded data removed]",
            "text/plain": [
              "<Figure size 432x288 with 1 Axes>"
            ]
          },
          "metadata": {
            "needs_background": "light"
          },
          "output_type": "display_data"
        },
        {
          "data": {
            "image/png": "[encoded data removed]",
            "text/plain": [
              "<Figure size 432x288 with 1 Axes>"
            ]
          },
          "metadata": {
            "needs_background": "light"
          },
          "output_type": "display_data"
        },
        {
          "name": "stdout",
          "output_type": "stream",
          "text": [
            "[1. 1. 1. 1. 1. 1. 1. 1. 1. 1.]\n"
          ]
        },
        {
          "data": {
            "image/png": "[encoded data removed]",
            "text/plain": [
              "<Figure size 432x288 with 1 Axes>"
            ]
          },
          "metadata": {
            "needs_background": "light"
          },
          "output_type": "display_data"
        },
        {
          "data": {
            "image/png": "[encoded data removed]",
            "text/plain": [
              "<Figure size 432x288 with 1 Axes>"
            ]
          },
          "metadata": {
            "needs_background": "light"
          },
          "output_type": "display_data"
        },
        {
          "name": "stdout",
          "output_type": "stream",
          "text": [
            "[8.4337914e-09 7.0730657e-08 1.1147463e-07 1.3485962e-07 2.5220817e-07\n",
            " 9.5139524e-07 1.4173850e-05 1.6549115e-05 2.1522391e-01 7.8474379e-01]\n"
          ]
        },
        {
          "data": {
            "image/png": "[encoded data removed]",
            "text/plain": [
              "<Figure size 432x288 with 1 Axes>"
            ]
          },
          "metadata": {
            "needs_background": "light"
          },
          "output_type": "display_data"
        },
        {
          "data": {
            "image/png": "[encoded data removed]",
            "text/plain": [
              "<Figure size 432x288 with 1 Axes>"
            ]
          },
          "metadata": {
            "needs_background": "light"
          },
          "output_type": "display_data"
        },
        {
          "name": "stdout",
          "output_type": "stream",
          "text": [
            "[1. 1. 1. 1. 1. 1. 1. 1. 1. 1.]\n"
          ]
        },
        {
          "data": {
            "image/png": "[encoded data removed]",
            "text/plain": [
              "<Figure size 432x288 with 1 Axes>"
            ]
          },
          "metadata": {
            "needs_background": "light"
          },
          "output_type": "display_data"
        },
        {
          "data": {
            "image/png": "[encoded data removed]",
            "text/plain": [
              "<Figure size 432x288 with 1 Axes>"
            ]
          },
          "metadata": {
            "needs_background": "light"
          },
          "output_type": "display_data"
        },
        {
          "name": "stdout",
          "output_type": "stream",
          "text": [
            "[2.77573164e-09 1.29945716e-08 1.03780394e-07 1.54204983e-07\n",
            " 2.09930050e-07 9.24602318e-06 2.84392627e-05 8.68444768e-05\n",
            " 2.32456233e-02 9.76629317e-01]\n"
          ]
        },
        {
          "data": {
            "image/png": "[encoded data removed]",
            "text/plain": [
              "<Figure size 432x288 with 1 Axes>"
            ]
          },
          "metadata": {
            "needs_background": "light"
          },
          "output_type": "display_data"
        },
        {
          "data": {
            "image/png": "[encoded data removed]",
            "text/plain": [
              "<Figure size 432x288 with 1 Axes>"
            ]
          },
          "metadata": {
            "needs_background": "light"
          },
          "output_type": "display_data"
        },
        {
          "name": "stdout",
          "output_type": "stream",
          "text": [
            "[1. 1. 1. 1. 1. 1. 1. 1. 1. 1.]\n"
          ]
        },
        {
          "data": {
            "image/png": "[encoded data removed]",
            "text/plain": [
              "<Figure size 432x288 with 1 Axes>"
            ]
          },
          "metadata": {
            "needs_background": "light"
          },
          "output_type": "display_data"
        },
        {
          "data": {
            "image/png": "[encoded data removed]",
            "text/plain": [
              "<Figure size 432x288 with 1 Axes>"
            ]
          },
          "metadata": {
            "needs_background": "light"
          },
          "output_type": "display_data"
        },
        {
          "name": "stdout",
          "output_type": "stream",
          "text": [
            "[1.0128168e-11 6.5521748e-11 6.7704869e-11 5.0773663e-10 1.2676280e-09\n",
            " 6.5025070e-09 1.3048328e-08 2.9635880e-08 5.9185027e-08 1.0000000e+00]\n"
          ]
        },
        {
          "data": {
            "image/png": "[encoded data removed]",
            "text/plain": [
              "<Figure size 432x288 with 1 Axes>"
            ]
          },
          "metadata": {
            "needs_background": "light"
          },
          "output_type": "display_data"
        },
        {
          "data": {
            "image/png": "[encoded data removed]",
            "text/plain": [
              "<Figure size 432x288 with 1 Axes>"
            ]
          },
          "metadata": {
            "needs_background": "light"
          },
          "output_type": "display_data"
        },
        {
          "name": "stdout",
          "output_type": "stream",
          "text": [
            "[1. 1. 1. 1. 1. 1. 1. 1. 1. 1.]\n"
          ]
        },
        {
          "data": {
            "image/png": "[encoded data removed]",
            "text/plain": [
              "<Figure size 432x288 with 1 Axes>"
            ]
          },
          "metadata": {
            "needs_background": "light"
          },
          "output_type": "display_data"
        },
        {
          "data": {
            "image/png": "[encoded data removed]",
            "text/plain": [
              "<Figure size 432x288 with 1 Axes>"
            ]
          },
          "metadata": {
            "needs_background": "light"
          },
          "output_type": "display_data"
        },
        {
          "name": "stdout",
          "output_type": "stream",
          "text": [
            "[8.2612979e-11 9.8452357e-10 1.7061440e-09 1.9377706e-09 9.4463752e-09\n",
            " 4.5738474e-08 4.2642951e-06 6.6234215e-06 5.7970770e-05 9.9993110e-01]\n"
          ]
        },
        {
          "data": {
            "image/png": "[encoded data removed]",
            "text/plain": [
              "<Figure size 432x288 with 1 Axes>"
            ]
          },
          "metadata": {
            "needs_background": "light"
          },
          "output_type": "display_data"
        },
        {
          "data": {
            "image/png": "[encoded data removed]",
            "text/plain": [
              "<Figure size 432x288 with 1 Axes>"
            ]
          },
          "metadata": {
            "needs_background": "light"
          },
          "output_type": "display_data"
        },
        {
          "name": "stdout",
          "output_type": "stream",
          "text": [
            "[1. 1. 1. 1. 1. 1. 1. 1. 1. 1.]\n"
          ]
        },
        {
          "data": {
            "image/png": "[encoded data removed]",
            "text/plain": [
              "<Figure size 432x288 with 1 Axes>"
            ]
          },
          "metadata": {
            "needs_background": "light"
          },
          "output_type": "display_data"
        },
        {
          "data": {
            "image/png": "[encoded data removed]",
            "text/plain": [
              "<Figure size 432x288 with 1 Axes>"
            ]
          },
          "metadata": {
            "needs_background": "light"
          },
          "output_type": "display_data"
        },
        {
          "name": "stdout",
          "output_type": "stream",
          "text": [
            "[4.2757535e-14 5.4422385e-14 7.9168985e-14 3.1250255e-13 5.4235159e-13\n",
            " 1.7961828e-11 9.8440445e-10 1.0449403e-07 9.9343913e-07 9.9999893e-01]\n"
          ]
        },
        {
          "data": {
            "image/png": "[encoded data removed]",
            "text/plain": [
              "<Figure size 432x288 with 1 Axes>"
            ]
          },
          "metadata": {
            "needs_background": "light"
          },
          "output_type": "display_data"
        },
        {
          "data": {
            "image/png": "[encoded data removed]",
            "text/plain": [
              "<Figure size 432x288 with 1 Axes>"
            ]
          },
          "metadata": {
            "needs_background": "light"
          },
          "output_type": "display_data"
        },
        {
          "name": "stdout",
          "output_type": "stream",
          "text": [
            "[1. 1. 1. 1. 1. 1. 1. 1. 1. 1.]\n"
          ]
        },
        {
          "data": {
            "image/png": "[encoded data removed]",
            "text/plain": [
              "<Figure size 432x288 with 1 Axes>"
            ]
          },
          "metadata": {
            "needs_background": "light"
          },
          "output_type": "display_data"
        },
        {
          "data": {
            "image/png": "[encoded data removed]",
            "text/plain": [
              "<Figure size 432x288 with 1 Axes>"
            ]
          },
          "metadata": {
            "needs_background": "light"
          },
          "output_type": "display_data"
        },
        {
          "name": "stdout",
          "output_type": "stream",
          "text": [
            "[4.5864777e-13 6.2264652e-13 3.1840171e-12 9.2200310e-11 1.1127061e-10\n",
            " 6.8141104e-10 9.5296182e-10 4.3693666e-09 5.3078420e-08 1.0000000e+00]\n"
          ]
        },
        {
          "data": {
            "image/png": "[encoded data removed]",
            "text/plain": [
              "<Figure size 432x288 with 1 Axes>"
            ]
          },
          "metadata": {
            "needs_background": "light"
          },
          "output_type": "display_data"
        },
        {
          "data": {
            "image/png": "[encoded data removed]",
            "text/plain": [
              "<Figure size 432x288 with 1 Axes>"
            ]
          },
          "metadata": {
            "needs_background": "light"
          },
          "output_type": "display_data"
        },
        {
          "name": "stdout",
          "output_type": "stream",
          "text": [
            "[1. 1. 1. 1. 1. 1. 1. 1. 1. 1.]\n"
          ]
        },
        {
          "data": {
            "image/png": "[encoded data removed]",
            "text/plain": [
              "<Figure size 432x288 with 1 Axes>"
            ]
          },
          "metadata": {
            "needs_background": "light"
          },
          "output_type": "display_data"
        },
        {
          "data": {
            "image/png": "[encoded data removed]",
            "text/plain": [
              "<Figure size 432x288 with 1 Axes>"
            ]
          },
          "metadata": {
            "needs_background": "light"
          },
          "output_type": "display_data"
        },
        {
          "name": "stdout",
          "output_type": "stream",
          "text": [
            "[2.6558317e-10 7.1291101e-10 8.9373375e-10 1.0201349e-09 1.3360028e-08\n",
            " 2.2873204e-08 5.5048059e-08 7.5575360e-07 4.3558341e-01 5.6441575e-01]\n"
          ]
        },
        {
          "data": {
            "image/png": "[encoded data removed]",
            "text/plain": [
              "<Figure size 432x288 with 1 Axes>"
            ]
          },
          "metadata": {
            "needs_background": "light"
          },
          "output_type": "display_data"
        },
        {
          "data": {
            "image/png": "[encoded data removed]",
            "text/plain": [
              "<Figure size 432x288 with 1 Axes>"
            ]
          },
          "metadata": {
            "needs_background": "light"
          },
          "output_type": "display_data"
        },
        {
          "name": "stdout",
          "output_type": "stream",
          "text": [
            "[1. 1. 1. 1. 1. 1. 1. 1. 1. 1.]\n"
          ]
        },
        {
          "data": {
            "image/png": "[encoded data removed]",
            "text/plain": [
              "<Figure size 432x288 with 1 Axes>"
            ]
          },
          "metadata": {
            "needs_background": "light"
          },
          "output_type": "display_data"
        },
        {
          "data": {
            "image/png": "[encoded data removed]",
            "text/plain": [
              "<Figure size 432x288 with 1 Axes>"
            ]
          },
          "metadata": {
            "needs_background": "light"
          },
          "output_type": "display_data"
        },
        {
          "name": "stdout",
          "output_type": "stream",
          "text": [
            "[1.6654625e-15 1.4482500e-14 3.1215845e-13 7.7160110e-13 1.8816123e-12\n",
            " 2.5358719e-12 1.9757550e-10 2.7538698e-07 1.8535808e-06 9.9999785e-01]\n"
          ]
        },
        {
          "data": {
            "image/png": "[encoded data removed]",
            "text/plain": [
              "<Figure size 432x288 with 1 Axes>"
            ]
          },
          "metadata": {
            "needs_background": "light"
          },
          "output_type": "display_data"
        },
        {
          "data": {
            "image/png": "[encoded data removed]",
            "text/plain": [
              "<Figure size 432x288 with 1 Axes>"
            ]
          },
          "metadata": {
            "needs_background": "light"
          },
          "output_type": "display_data"
        },
        {
          "name": "stdout",
          "output_type": "stream",
          "text": [
            "[1. 1. 1. 1. 1. 1. 1. 1. 1. 1.]\n"
          ]
        },
        {
          "data": {
            "image/png": "[encoded data removed]",
            "text/plain": [
              "<Figure size 432x288 with 1 Axes>"
            ]
          },
          "metadata": {
            "needs_background": "light"
          },
          "output_type": "display_data"
        },
        {
          "data": {
            "image/png": "[encoded data removed]",
            "text/plain": [
              "<Figure size 432x288 with 1 Axes>"
            ]
          },
          "metadata": {
            "needs_background": "light"
          },
          "output_type": "display_data"
        },
        {
          "name": "stdout",
          "output_type": "stream",
          "text": [
            "[9.8320104e-17 4.2764085e-15 1.9700203e-14 3.2183091e-14 1.8882450e-13\n",
            " 2.2949093e-13 8.2617008e-13 2.3339239e-12 3.3893315e-11 1.0000000e+00]\n"
          ]
        },
        {
          "data": {
            "image/png": "[encoded data removed]",
            "text/plain": [
              "<Figure size 432x288 with 1 Axes>"
            ]
          },
          "metadata": {
            "needs_background": "light"
          },
          "output_type": "display_data"
        },
        {
          "data": {
            "image/png": "[encoded data removed]",
            "text/plain": [
              "<Figure size 432x288 with 1 Axes>"
            ]
          },
          "metadata": {
            "needs_background": "light"
          },
          "output_type": "display_data"
        },
        {
          "name": "stdout",
          "output_type": "stream",
          "text": [
            "[1. 1. 1. 1. 1. 1. 1. 1. 1. 1.]\n"
          ]
        },
        {
          "data": {
            "image/png": "[encoded data removed]",
            "text/plain": [
              "<Figure size 432x288 with 1 Axes>"
            ]
          },
          "metadata": {
            "needs_background": "light"
          },
          "output_type": "display_data"
        },
        {
          "data": {
            "image/png": "[encoded data removed]",
            "text/plain": [
              "<Figure size 432x288 with 1 Axes>"
            ]
          },
          "metadata": {
            "needs_background": "light"
          },
          "output_type": "display_data"
        },
        {
          "name": "stdout",
          "output_type": "stream",
          "text": [
            "[8.28587348e-14 1.00779411e-13 1.02820435e-13 2.08185289e-13\n",
            " 1.44476434e-12 1.74869526e-12 3.89561827e-10 8.49700643e-10\n",
            " 1.98460559e-09 1.00000000e+00]\n"
          ]
        },
        {
          "data": {
            "image/png": "[encoded data removed]",
            "text/plain": [
              "<Figure size 432x288 with 1 Axes>"
            ]
          },
          "metadata": {
            "needs_background": "light"
          },
          "output_type": "display_data"
        },
        {
          "data": {
            "image/png": "[encoded data removed]",
            "text/plain": [
              "<Figure size 432x288 with 1 Axes>"
            ]
          },
          "metadata": {
            "needs_background": "light"
          },
          "output_type": "display_data"
        },
        {
          "name": "stdout",
          "output_type": "stream",
          "text": [
            "[1. 1. 1. 1. 1. 1. 1. 1. 1. 1.]\n"
          ]
        },
        {
          "data": {
            "image/png": "[encoded data removed]",
            "text/plain": [
              "<Figure size 432x288 with 1 Axes>"
            ]
          },
          "metadata": {
            "needs_background": "light"
          },
          "output_type": "display_data"
        },
        {
          "data": {
            "image/png": "[encoded data removed]",
            "text/plain": [
              "<Figure size 432x288 with 1 Axes>"
            ]
          },
          "metadata": {
            "needs_background": "light"
          },
          "output_type": "display_data"
        },
        {
          "name": "stdout",
          "output_type": "stream",
          "text": [
            "[1.7894967e-10 4.7572785e-10 8.1049456e-10 3.9756602e-09 7.5233260e-09\n",
            " 1.1365095e-08 1.9395761e-08 5.7786661e-08 8.0250878e-08 9.9999988e-01]\n"
          ]
        },
        {
          "data": {
            "image/png": "[encoded data removed]",
            "text/plain": [
              "<Figure size 432x288 with 1 Axes>"
            ]
          },
          "metadata": {
            "needs_background": "light"
          },
          "output_type": "display_data"
        },
        {
          "data": {
            "image/png": "[encoded data removed]",
            "text/plain": [
              "<Figure size 432x288 with 1 Axes>"
            ]
          },
          "metadata": {
            "needs_background": "light"
          },
          "output_type": "display_data"
        },
        {
          "name": "stdout",
          "output_type": "stream",
          "text": [
            "[1. 1. 1. 1. 1. 1. 1. 1. 1. 1.]\n"
          ]
        },
        {
          "data": {
            "image/png": "[encoded data removed]",
            "text/plain": [
              "<Figure size 432x288 with 1 Axes>"
            ]
          },
          "metadata": {
            "needs_background": "light"
          },
          "output_type": "display_data"
        },
        {
          "data": {
            "image/png": "[encoded data removed]",
            "text/plain": [
              "<Figure size 432x288 with 1 Axes>"
            ]
          },
          "metadata": {
            "needs_background": "light"
          },
          "output_type": "display_data"
        },
        {
          "name": "stdout",
          "output_type": "stream",
          "text": [
            "[2.4345497e-17 3.0426562e-17 3.8952110e-17 5.9726821e-17 6.9597727e-16\n",
            " 8.0810892e-16 3.1146833e-15 5.0503869e-15 2.1193615e-13 1.0000000e+00]\n"
          ]
        },
        {
          "data": {
            "image/png": "[encoded data removed]",
            "text/plain": [
              "<Figure size 432x288 with 1 Axes>"
            ]
          },
          "metadata": {
            "needs_background": "light"
          },
          "output_type": "display_data"
        },
        {
          "data": {
            "image/png": "[encoded data removed]",
            "text/plain": [
              "<Figure size 432x288 with 1 Axes>"
            ]
          },
          "metadata": {
            "needs_background": "light"
          },
          "output_type": "display_data"
        },
        {
          "name": "stdout",
          "output_type": "stream",
          "text": [
            "[1. 1. 1. 1. 1. 1. 1. 1. 1. 1.]\n"
          ]
        },
        {
          "data": {
            "image/png": "[encoded data removed]",
            "text/plain": [
              "<Figure size 432x288 with 1 Axes>"
            ]
          },
          "metadata": {
            "needs_background": "light"
          },
          "output_type": "display_data"
        },
        {
          "data": {
            "image/png": "[encoded data removed]",
            "text/plain": [
              "<Figure size 432x288 with 1 Axes>"
            ]
          },
          "metadata": {
            "needs_background": "light"
          },
          "output_type": "display_data"
        },
        {
          "name": "stdout",
          "output_type": "stream",
          "text": [
            "[3.8379903e-14 7.3336451e-14 1.3374074e-13 2.8177691e-13 1.8360782e-12\n",
            " 6.3642763e-12 7.2707999e-11 2.1339666e-08 1.4544979e-06 9.9999857e-01]\n"
          ]
        },
        {
          "data": {
            "image/png": "[encoded data removed]",
            "text/plain": [
              "<Figure size 432x288 with 1 Axes>"
            ]
          },
          "metadata": {
            "needs_background": "light"
          },
          "output_type": "display_data"
        },
        {
          "data": {
            "image/png": "[encoded data removed]",
            "text/plain": [
              "<Figure size 432x288 with 1 Axes>"
            ]
          },
          "metadata": {
            "needs_background": "light"
          },
          "output_type": "display_data"
        },
        {
          "name": "stdout",
          "output_type": "stream",
          "text": [
            "[1. 1. 1. 1. 1. 1. 1. 1. 1. 1.]\n"
          ]
        },
        {
          "data": {
            "image/png": "[encoded data removed]",
            "text/plain": [
              "<Figure size 432x288 with 1 Axes>"
            ]
          },
          "metadata": {
            "needs_background": "light"
          },
          "output_type": "display_data"
        },
        {
          "data": {
            "image/png": "[encoded data removed]",
            "text/plain": [
              "<Figure size 432x288 with 1 Axes>"
            ]
          },
          "metadata": {
            "needs_background": "light"
          },
          "output_type": "display_data"
        },
        {
          "name": "stdout",
          "output_type": "stream",
          "text": [
            "[1.7098409e-14 2.3636050e-14 1.9136759e-13 2.2915063e-13 4.9719603e-13\n",
            " 9.0796413e-13 2.6494688e-12 1.9317095e-11 1.0551661e-10 1.0000000e+00]\n"
          ]
        },
        {
          "data": {
            "image/png": "[encoded data removed]",
            "text/plain": [
              "<Figure size 432x288 with 1 Axes>"
            ]
          },
          "metadata": {
            "needs_background": "light"
          },
          "output_type": "display_data"
        },
        {
          "data": {
            "image/png": "[encoded data removed]",
            "text/plain": [
              "<Figure size 432x288 with 1 Axes>"
            ]
          },
          "metadata": {
            "needs_background": "light"
          },
          "output_type": "display_data"
        },
        {
          "name": "stdout",
          "output_type": "stream",
          "text": [
            "[1. 1. 1. 1. 1. 1. 1. 1. 1. 1.]\n"
          ]
        },
        {
          "data": {
            "image/png": "[encoded data removed]",
            "text/plain": [
              "<Figure size 432x288 with 1 Axes>"
            ]
          },
          "metadata": {
            "needs_background": "light"
          },
          "output_type": "display_data"
        },
        {
          "data": {
            "image/png": "[encoded data removed]",
            "text/plain": [
              "<Figure size 432x288 with 1 Axes>"
            ]
          },
          "metadata": {
            "needs_background": "light"
          },
          "output_type": "display_data"
        },
        {
          "name": "stdout",
          "output_type": "stream",
          "text": [
            "[4.43151948e-05 1.49742744e-04 3.78718076e-04 8.08311743e-04\n",
            " 1.82859122e-03 9.62466095e-03 1.36984736e-02 9.83852074e-02\n",
            " 1.00503705e-01 7.74578214e-01]\n"
          ]
        },
        {
          "data": {
            "image/png": "[encoded data removed]",
            "text/plain": [
              "<Figure size 432x288 with 1 Axes>"
            ]
          },
          "metadata": {
            "needs_background": "light"
          },
          "output_type": "display_data"
        },
        {
          "data": {
            "image/png": "[encoded data removed]",
            "text/plain": [
              "<Figure size 432x288 with 1 Axes>"
            ]
          },
          "metadata": {
            "needs_background": "light"
          },
          "output_type": "display_data"
        },
        {
          "name": "stdout",
          "output_type": "stream",
          "text": [
            "[1. 1. 1. 1. 1. 1. 1. 1. 1. 1.]\n"
          ]
        },
        {
          "data": {
            "image/png": "[encoded data removed]",
            "text/plain": [
              "<Figure size 432x288 with 1 Axes>"
            ]
          },
          "metadata": {
            "needs_background": "light"
          },
          "output_type": "display_data"
        },
        {
          "data": {
            "image/png": "[encoded data removed]",
            "text/plain": [
              "<Figure size 432x288 with 1 Axes>"
            ]
          },
          "metadata": {
            "needs_background": "light"
          },
          "output_type": "display_data"
        },
        {
          "name": "stdout",
          "output_type": "stream",
          "text": [
            "[1.0771613e-10 1.4631675e-10 3.4439147e-09 5.0838214e-08 1.9338925e-07\n",
            " 1.9617962e-06 4.9969756e-05 3.7957475e-04 2.8396375e-02 9.7117180e-01]\n"
          ]
        },
        {
          "data": {
            "image/png": "[encoded data removed]",
            "text/plain": [
              "<Figure size 432x288 with 1 Axes>"
            ]
          },
          "metadata": {
            "needs_background": "light"
          },
          "output_type": "display_data"
        },
        {
          "data": {
            "image/png": "[encoded data removed]",
            "text/plain": [
              "<Figure size 432x288 with 1 Axes>"
            ]
          },
          "metadata": {
            "needs_background": "light"
          },
          "output_type": "display_data"
        },
        {
          "name": "stdout",
          "output_type": "stream",
          "text": [
            "[1. 1. 1. 1. 1. 1. 1. 1. 1. 1.]\n"
          ]
        },
        {
          "data": {
            "image/png": "[encoded data removed]",
            "text/plain": [
              "<Figure size 432x288 with 1 Axes>"
            ]
          },
          "metadata": {
            "needs_background": "light"
          },
          "output_type": "display_data"
        },
        {
          "data": {
            "image/png": "[encoded data removed]",
            "text/plain": [
              "<Figure size 432x288 with 1 Axes>"
            ]
          },
          "metadata": {
            "needs_background": "light"
          },
          "output_type": "display_data"
        },
        {
          "name": "stdout",
          "output_type": "stream",
          "text": [
            "[3.5515327e-16 2.3063157e-15 6.9067740e-15 2.2764888e-14 2.6721413e-14\n",
            " 7.4034068e-14 2.6220701e-12 1.0537808e-09 1.0306221e-08 1.0000000e+00]\n"
          ]
        },
        {
          "data": {
            "image/png": "[encoded data removed]",
            "text/plain": [
              "<Figure size 432x288 with 1 Axes>"
            ]
          },
          "metadata": {
            "needs_background": "light"
          },
          "output_type": "display_data"
        },
        {
          "data": {
            "image/png": "[encoded data removed]",
            "text/plain": [
              "<Figure size 432x288 with 1 Axes>"
            ]
          },
          "metadata": {
            "needs_background": "light"
          },
          "output_type": "display_data"
        },
        {
          "name": "stdout",
          "output_type": "stream",
          "text": [
            "[1. 1. 1. 1. 1. 1. 1. 1. 1. 1.]\n"
          ]
        },
        {
          "data": {
            "image/png": "[encoded data removed]",
            "text/plain": [
              "<Figure size 432x288 with 1 Axes>"
            ]
          },
          "metadata": {
            "needs_background": "light"
          },
          "output_type": "display_data"
        },
        {
          "data": {
            "image/png": "[encoded data removed]",
            "text/plain": [
              "<Figure size 432x288 with 1 Axes>"
            ]
          },
          "metadata": {
            "needs_background": "light"
          },
          "output_type": "display_data"
        },
        {
          "name": "stdout",
          "output_type": "stream",
          "text": [
            "[1.4595719e-08 1.0832151e-07 7.4840915e-07 8.3832560e-07 8.8340045e-07\n",
            " 4.1737494e-06 7.3084748e-06 6.4591834e-05 1.7162344e-03 9.9820507e-01]\n"
          ]
        },
        {
          "data": {
            "image/png": "[encoded data removed]",
            "text/plain": [
              "<Figure size 432x288 with 1 Axes>"
            ]
          },
          "metadata": {
            "needs_background": "light"
          },
          "output_type": "display_data"
        },
        {
          "data": {
            "image/png": "[encoded data removed]",
            "text/plain": [
              "<Figure size 432x288 with 1 Axes>"
            ]
          },
          "metadata": {
            "needs_background": "light"
          },
          "output_type": "display_data"
        },
        {
          "name": "stdout",
          "output_type": "stream",
          "text": [
            "[1. 1. 1. 1. 1. 1. 1. 1. 1. 1.]\n"
          ]
        },
        {
          "data": {
            "image/png": "[encoded data removed]",
            "text/plain": [
              "<Figure size 432x288 with 1 Axes>"
            ]
          },
          "metadata": {
            "needs_background": "light"
          },
          "output_type": "display_data"
        },
        {
          "data": {
            "image/png": "[encoded data removed]",
            "text/plain": [
              "<Figure size 432x288 with 1 Axes>"
            ]
          },
          "metadata": {
            "needs_background": "light"
          },
          "output_type": "display_data"
        },
        {
          "name": "stdout",
          "output_type": "stream",
          "text": [
            "[4.1136646e-15 1.5291554e-14 4.2959166e-14 1.7049894e-13 2.2508780e-13\n",
            " 1.8238887e-12 3.5238544e-12 3.6518098e-12 2.2157354e-10 1.0000000e+00]\n"
          ]
        },
        {
          "data": {
            "image/png": "[encoded data removed]",
            "text/plain": [
              "<Figure size 432x288 with 1 Axes>"
            ]
          },
          "metadata": {
            "needs_background": "light"
          },
          "output_type": "display_data"
        },
        {
          "data": {
            "image/png": "[encoded data removed]",
            "text/plain": [
              "<Figure size 432x288 with 1 Axes>"
            ]
          },
          "metadata": {
            "needs_background": "light"
          },
          "output_type": "display_data"
        },
        {
          "name": "stdout",
          "output_type": "stream",
          "text": [
            "[1. 1. 1. 1. 1. 1. 1. 1. 1. 1.]\n"
          ]
        },
        {
          "data": {
            "image/png": "[encoded data removed]",
            "text/plain": [
              "<Figure size 432x288 with 1 Axes>"
            ]
          },
          "metadata": {
            "needs_background": "light"
          },
          "output_type": "display_data"
        },
        {
          "ename": "KeyboardInterrupt",
          "evalue": "",
          "output_type": "error",
          "traceback": [
            "\u001b[0;31m---------------------------------------------------------------------------\u001b[0m",
            "\u001b[0;31mKeyboardInterrupt\u001b[0m                         Traceback (most recent call last)",
            "\u001b[0;32m<ipython-input-22-3ac7e9b40142>\u001b[0m in \u001b[0;36m<module>\u001b[0;34m\u001b[0m\n\u001b[1;32m     21\u001b[0m         \u001b[0;31m# compute the output and loss\u001b[0m\u001b[0;34m\u001b[0m\u001b[0;34m\u001b[0m\u001b[0;34m\u001b[0m\u001b[0m\n\u001b[1;32m     22\u001b[0m         \u001b[0moutputs\u001b[0m \u001b[0;34m=\u001b[0m \u001b[0mnet\u001b[0m\u001b[0;34m(\u001b[0m\u001b[0minputs\u001b[0m\u001b[0;34m)\u001b[0m\u001b[0;34m\u001b[0m\u001b[0;34m\u001b[0m\u001b[0m\n\u001b[0;32m---> 23\u001b[0;31m         \u001b[0mplot_dist\u001b[0m\u001b[0;34m(\u001b[0m\u001b[0moutputs\u001b[0m\u001b[0;34m)\u001b[0m\u001b[0;34m\u001b[0m\u001b[0;34m\u001b[0m\u001b[0m\n\u001b[0m\u001b[1;32m     24\u001b[0m         \u001b[0;32mif\u001b[0m \u001b[0mbatch_idx\u001b[0m \u001b[0;34m>\u001b[0m \u001b[0;36m0\u001b[0m\u001b[0;34m:\u001b[0m\u001b[0;34m\u001b[0m\u001b[0;34m\u001b[0m\u001b[0m\n\u001b[1;32m     25\u001b[0m             \u001b[0;32mbreak\u001b[0m\u001b[0;34m\u001b[0m\u001b[0;34m\u001b[0m\u001b[0m\n",
            "\u001b[0;32m<ipython-input-21-20464a81eebe>\u001b[0m in \u001b[0;36mplot_dist\u001b[0;34m(x)\u001b[0m\n\u001b[1;32m     11\u001b[0m         \u001b[0mprint\u001b[0m\u001b[0;34m(\u001b[0m\u001b[0mp_cdf\u001b[0m\u001b[0;34m)\u001b[0m\u001b[0;34m\u001b[0m\u001b[0;34m\u001b[0m\u001b[0m\n\u001b[1;32m     12\u001b[0m         \u001b[0mplt\u001b[0m\u001b[0;34m.\u001b[0m\u001b[0mhist\u001b[0m\u001b[0;34m(\u001b[0m\u001b[0mp_cdf\u001b[0m\u001b[0;34m,\u001b[0m \u001b[0mhisttype\u001b[0m\u001b[0;34m=\u001b[0m\u001b[0;34mu'step'\u001b[0m\u001b[0;34m,\u001b[0m \u001b[0mbins\u001b[0m\u001b[0;34m=\u001b[0m\u001b[0;36m10\u001b[0m\u001b[0;34m)\u001b[0m\u001b[0;34m;\u001b[0m \u001b[0mplt\u001b[0m\u001b[0;34m.\u001b[0m\u001b[0mshow\u001b[0m\u001b[0;34m(\u001b[0m\u001b[0;34m)\u001b[0m\u001b[0;34m;\u001b[0m \u001b[0mplt\u001b[0m\u001b[0;34m.\u001b[0m\u001b[0mclose\u001b[0m\u001b[0;34m(\u001b[0m\u001b[0;34m)\u001b[0m\u001b[0;34m\u001b[0m\u001b[0;34m\u001b[0m\u001b[0m\n\u001b[0;32m---> 13\u001b[0;31m         \u001b[0mplt\u001b[0m\u001b[0;34m.\u001b[0m\u001b[0mhist\u001b[0m\u001b[0;34m(\u001b[0m\u001b[0mp_cdf\u001b[0m\u001b[0;34m,\u001b[0m \u001b[0mhisttype\u001b[0m\u001b[0;34m=\u001b[0m\u001b[0;34mu'step'\u001b[0m\u001b[0;34m,\u001b[0m \u001b[0mbins\u001b[0m\u001b[0;34m=\u001b[0m\u001b[0;36m10\u001b[0m\u001b[0;34m,\u001b[0m \u001b[0mcumulative\u001b[0m\u001b[0;34m=\u001b[0m\u001b[0;32mTrue\u001b[0m\u001b[0;34m)\u001b[0m\u001b[0;34m;\u001b[0m \u001b[0mplt\u001b[0m\u001b[0;34m.\u001b[0m\u001b[0mshow\u001b[0m\u001b[0;34m(\u001b[0m\u001b[0;34m)\u001b[0m\u001b[0;34m;\u001b[0m \u001b[0mplt\u001b[0m\u001b[0;34m.\u001b[0m\u001b[0mclose\u001b[0m\u001b[0;34m(\u001b[0m\u001b[0;34m)\u001b[0m\u001b[0;34m\u001b[0m\u001b[0;34m\u001b[0m\u001b[0m\n\u001b[0m",
            "\u001b[0;32m~/.local/share/virtualenvs/dy-cnns-BTFORRN_/lib64/python3.6/site-packages/matplotlib/pyplot.py\u001b[0m in \u001b[0;36mhist\u001b[0;34m(x, bins, range, density, weights, cumulative, bottom, histtype, align, orientation, rwidth, log, color, label, stacked, data, **kwargs)\u001b[0m\n\u001b[1;32m   2683\u001b[0m         \u001b[0morientation\u001b[0m\u001b[0;34m=\u001b[0m\u001b[0;34m'vertical'\u001b[0m\u001b[0;34m,\u001b[0m \u001b[0mrwidth\u001b[0m\u001b[0;34m=\u001b[0m\u001b[0;32mNone\u001b[0m\u001b[0;34m,\u001b[0m \u001b[0mlog\u001b[0m\u001b[0;34m=\u001b[0m\u001b[0;32mFalse\u001b[0m\u001b[0;34m,\u001b[0m \u001b[0mcolor\u001b[0m\u001b[0;34m=\u001b[0m\u001b[0;32mNone\u001b[0m\u001b[0;34m,\u001b[0m\u001b[0;34m\u001b[0m\u001b[0;34m\u001b[0m\u001b[0m\n\u001b[1;32m   2684\u001b[0m         label=None, stacked=False, *, data=None, **kwargs):\n\u001b[0;32m-> 2685\u001b[0;31m     return gca().hist(\n\u001b[0m\u001b[1;32m   2686\u001b[0m         \u001b[0mx\u001b[0m\u001b[0;34m,\u001b[0m \u001b[0mbins\u001b[0m\u001b[0;34m=\u001b[0m\u001b[0mbins\u001b[0m\u001b[0;34m,\u001b[0m \u001b[0mrange\u001b[0m\u001b[0;34m=\u001b[0m\u001b[0mrange\u001b[0m\u001b[0;34m,\u001b[0m \u001b[0mdensity\u001b[0m\u001b[0;34m=\u001b[0m\u001b[0mdensity\u001b[0m\u001b[0;34m,\u001b[0m \u001b[0mweights\u001b[0m\u001b[0;34m=\u001b[0m\u001b[0mweights\u001b[0m\u001b[0;34m,\u001b[0m\u001b[0;34m\u001b[0m\u001b[0;34m\u001b[0m\u001b[0m\n\u001b[1;32m   2687\u001b[0m         \u001b[0mcumulative\u001b[0m\u001b[0;34m=\u001b[0m\u001b[0mcumulative\u001b[0m\u001b[0;34m,\u001b[0m \u001b[0mbottom\u001b[0m\u001b[0;34m=\u001b[0m\u001b[0mbottom\u001b[0m\u001b[0;34m,\u001b[0m \u001b[0mhisttype\u001b[0m\u001b[0;34m=\u001b[0m\u001b[0mhisttype\u001b[0m\u001b[0;34m,\u001b[0m\u001b[0;34m\u001b[0m\u001b[0;34m\u001b[0m\u001b[0m\n",
            "\u001b[0;32m~/.local/share/virtualenvs/dy-cnns-BTFORRN_/lib64/python3.6/site-packages/matplotlib/pyplot.py\u001b[0m in \u001b[0;36mgca\u001b[0;34m(**kwargs)\u001b[0m\n\u001b[1;32m   2366\u001b[0m \u001b[0;34m@\u001b[0m\u001b[0m_copy_docstring_and_deprecators\u001b[0m\u001b[0;34m(\u001b[0m\u001b[0mFigure\u001b[0m\u001b[0;34m.\u001b[0m\u001b[0mgca\u001b[0m\u001b[0;34m)\u001b[0m\u001b[0;34m\u001b[0m\u001b[0;34m\u001b[0m\u001b[0m\n\u001b[1;32m   2367\u001b[0m \u001b[0;32mdef\u001b[0m \u001b[0mgca\u001b[0m\u001b[0;34m(\u001b[0m\u001b[0;34m**\u001b[0m\u001b[0mkwargs\u001b[0m\u001b[0;34m)\u001b[0m\u001b[0;34m:\u001b[0m\u001b[0;34m\u001b[0m\u001b[0;34m\u001b[0m\u001b[0m\n\u001b[0;32m-> 2368\u001b[0;31m     \u001b[0;32mreturn\u001b[0m \u001b[0mgcf\u001b[0m\u001b[0;34m(\u001b[0m\u001b[0;34m)\u001b[0m\u001b[0;34m.\u001b[0m\u001b[0mgca\u001b[0m\u001b[0;34m(\u001b[0m\u001b[0;34m**\u001b[0m\u001b[0mkwargs\u001b[0m\u001b[0;34m)\u001b[0m\u001b[0;34m\u001b[0m\u001b[0;34m\u001b[0m\u001b[0m\n\u001b[0m\u001b[1;32m   2369\u001b[0m \u001b[0;34m\u001b[0m\u001b[0m\n\u001b[1;32m   2370\u001b[0m \u001b[0;34m\u001b[0m\u001b[0m\n",
            "\u001b[0;32m~/.local/share/virtualenvs/dy-cnns-BTFORRN_/lib64/python3.6/site-packages/matplotlib/figure.py\u001b[0m in \u001b[0;36mgca\u001b[0;34m(self, **kwargs)\u001b[0m\n\u001b[1;32m   2063\u001b[0m \u001b[0;34m\u001b[0m\u001b[0m\n\u001b[1;32m   2064\u001b[0m         \u001b[0;31m# no axes found, so create one which spans the figure\u001b[0m\u001b[0;34m\u001b[0m\u001b[0;34m\u001b[0m\u001b[0;34m\u001b[0m\u001b[0m\n\u001b[0;32m-> 2065\u001b[0;31m         \u001b[0;32mreturn\u001b[0m \u001b[0mself\u001b[0m\u001b[0;34m.\u001b[0m\u001b[0madd_subplot\u001b[0m\u001b[0;34m(\u001b[0m\u001b[0;36m1\u001b[0m\u001b[0;34m,\u001b[0m \u001b[0;36m1\u001b[0m\u001b[0;34m,\u001b[0m \u001b[0;36m1\u001b[0m\u001b[0;34m,\u001b[0m \u001b[0;34m**\u001b[0m\u001b[0mkwargs\u001b[0m\u001b[0;34m)\u001b[0m\u001b[0;34m\u001b[0m\u001b[0;34m\u001b[0m\u001b[0m\n\u001b[0m\u001b[1;32m   2066\u001b[0m \u001b[0;34m\u001b[0m\u001b[0m\n\u001b[1;32m   2067\u001b[0m     \u001b[0;32mdef\u001b[0m \u001b[0msca\u001b[0m\u001b[0;34m(\u001b[0m\u001b[0mself\u001b[0m\u001b[0;34m,\u001b[0m \u001b[0ma\u001b[0m\u001b[0;34m)\u001b[0m\u001b[0;34m:\u001b[0m\u001b[0;34m\u001b[0m\u001b[0;34m\u001b[0m\u001b[0m\n",
            "\u001b[0;32m~/.local/share/virtualenvs/dy-cnns-BTFORRN_/lib64/python3.6/site-packages/matplotlib/figure.py\u001b[0m in \u001b[0;36madd_subplot\u001b[0;34m(self, *args, **kwargs)\u001b[0m\n\u001b[1;32m   1400\u001b[0m                     \u001b[0;31m# more similar to add_axes.\u001b[0m\u001b[0;34m\u001b[0m\u001b[0;34m\u001b[0m\u001b[0;34m\u001b[0m\u001b[0m\n\u001b[1;32m   1401\u001b[0m                     \u001b[0mself\u001b[0m\u001b[0;34m.\u001b[0m\u001b[0m_axstack\u001b[0m\u001b[0;34m.\u001b[0m\u001b[0mremove\u001b[0m\u001b[0;34m(\u001b[0m\u001b[0max\u001b[0m\u001b[0;34m)\u001b[0m\u001b[0;34m\u001b[0m\u001b[0;34m\u001b[0m\u001b[0m\n\u001b[0;32m-> 1402\u001b[0;31m             \u001b[0max\u001b[0m \u001b[0;34m=\u001b[0m \u001b[0msubplot_class_factory\u001b[0m\u001b[0;34m(\u001b[0m\u001b[0mprojection_class\u001b[0m\u001b[0;34m)\u001b[0m\u001b[0;34m(\u001b[0m\u001b[0mself\u001b[0m\u001b[0;34m,\u001b[0m \u001b[0;34m*\u001b[0m\u001b[0margs\u001b[0m\u001b[0;34m,\u001b[0m \u001b[0;34m**\u001b[0m\u001b[0mkwargs\u001b[0m\u001b[0;34m)\u001b[0m\u001b[0;34m\u001b[0m\u001b[0;34m\u001b[0m\u001b[0m\n\u001b[0m\u001b[1;32m   1403\u001b[0m \u001b[0;34m\u001b[0m\u001b[0m\n\u001b[1;32m   1404\u001b[0m         \u001b[0;32mreturn\u001b[0m \u001b[0mself\u001b[0m\u001b[0;34m.\u001b[0m\u001b[0m_add_axes_internal\u001b[0m\u001b[0;34m(\u001b[0m\u001b[0mkey\u001b[0m\u001b[0;34m,\u001b[0m \u001b[0max\u001b[0m\u001b[0;34m)\u001b[0m\u001b[0;34m\u001b[0m\u001b[0;34m\u001b[0m\u001b[0m\n",
            "\u001b[0;32m~/.local/share/virtualenvs/dy-cnns-BTFORRN_/lib64/python3.6/site-packages/matplotlib/axes/_subplots.py\u001b[0m in \u001b[0;36m__init__\u001b[0;34m(self, fig, *args, **kwargs)\u001b[0m\n\u001b[1;32m     40\u001b[0m         \u001b[0mself\u001b[0m\u001b[0;34m.\u001b[0m\u001b[0mupdate_params\u001b[0m\u001b[0;34m(\u001b[0m\u001b[0;34m)\u001b[0m\u001b[0;34m\u001b[0m\u001b[0;34m\u001b[0m\u001b[0m\n\u001b[1;32m     41\u001b[0m         \u001b[0;31m# _axes_class is set in the subplot_class_factory\u001b[0m\u001b[0;34m\u001b[0m\u001b[0;34m\u001b[0m\u001b[0;34m\u001b[0m\u001b[0m\n\u001b[0;32m---> 42\u001b[0;31m         \u001b[0mself\u001b[0m\u001b[0;34m.\u001b[0m\u001b[0m_axes_class\u001b[0m\u001b[0;34m.\u001b[0m\u001b[0m__init__\u001b[0m\u001b[0;34m(\u001b[0m\u001b[0mself\u001b[0m\u001b[0;34m,\u001b[0m \u001b[0mfig\u001b[0m\u001b[0;34m,\u001b[0m \u001b[0mself\u001b[0m\u001b[0;34m.\u001b[0m\u001b[0mfigbox\u001b[0m\u001b[0;34m,\u001b[0m \u001b[0;34m**\u001b[0m\u001b[0mkwargs\u001b[0m\u001b[0;34m)\u001b[0m\u001b[0;34m\u001b[0m\u001b[0;34m\u001b[0m\u001b[0m\n\u001b[0m\u001b[1;32m     43\u001b[0m         \u001b[0;31m# add a layout box to this, for both the full axis, and the poss\u001b[0m\u001b[0;34m\u001b[0m\u001b[0;34m\u001b[0m\u001b[0;34m\u001b[0m\u001b[0m\n\u001b[1;32m     44\u001b[0m         \u001b[0;31m# of the axis.  We need both because the axes may become smaller\u001b[0m\u001b[0;34m\u001b[0m\u001b[0;34m\u001b[0m\u001b[0;34m\u001b[0m\u001b[0m\n",
            "\u001b[0;32m~/.local/share/virtualenvs/dy-cnns-BTFORRN_/lib64/python3.6/site-packages/matplotlib/axes/_base.py\u001b[0m in \u001b[0;36m__init__\u001b[0;34m(self, fig, rect, facecolor, frameon, sharex, sharey, label, xscale, yscale, box_aspect, **kwargs)\u001b[0m\n\u001b[1;32m    509\u001b[0m \u001b[0;34m\u001b[0m\u001b[0m\n\u001b[1;32m    510\u001b[0m         \u001b[0mself\u001b[0m\u001b[0;34m.\u001b[0m\u001b[0m_rasterization_zorder\u001b[0m \u001b[0;34m=\u001b[0m \u001b[0;32mNone\u001b[0m\u001b[0;34m\u001b[0m\u001b[0;34m\u001b[0m\u001b[0m\n\u001b[0;32m--> 511\u001b[0;31m         \u001b[0mself\u001b[0m\u001b[0;34m.\u001b[0m\u001b[0mcla\u001b[0m\u001b[0;34m(\u001b[0m\u001b[0;34m)\u001b[0m\u001b[0;34m\u001b[0m\u001b[0;34m\u001b[0m\u001b[0m\n\u001b[0m\u001b[1;32m    512\u001b[0m \u001b[0;34m\u001b[0m\u001b[0m\n\u001b[1;32m    513\u001b[0m         \u001b[0;31m# funcs used to format x and y - fall back on major formatters\u001b[0m\u001b[0;34m\u001b[0m\u001b[0;34m\u001b[0m\u001b[0;34m\u001b[0m\u001b[0m\n",
            "\u001b[0;32m~/.local/share/virtualenvs/dy-cnns-BTFORRN_/lib64/python3.6/site-packages/matplotlib/axes/_base.py\u001b[0m in \u001b[0;36mcla\u001b[0;34m(self)\u001b[0m\n\u001b[1;32m   1108\u001b[0m         \u001b[0mself\u001b[0m\u001b[0;34m.\u001b[0m\u001b[0mcontainers\u001b[0m \u001b[0;34m=\u001b[0m \u001b[0;34m[\u001b[0m\u001b[0;34m]\u001b[0m\u001b[0;34m\u001b[0m\u001b[0;34m\u001b[0m\u001b[0m\n\u001b[1;32m   1109\u001b[0m \u001b[0;34m\u001b[0m\u001b[0m\n\u001b[0;32m-> 1110\u001b[0;31m         \u001b[0mself\u001b[0m\u001b[0;34m.\u001b[0m\u001b[0mgrid\u001b[0m\u001b[0;34m(\u001b[0m\u001b[0;32mFalse\u001b[0m\u001b[0;34m)\u001b[0m  \u001b[0;31m# Disable grid on init to use rcParameter\u001b[0m\u001b[0;34m\u001b[0m\u001b[0;34m\u001b[0m\u001b[0m\n\u001b[0m\u001b[1;32m   1111\u001b[0m         self.grid(self._gridOn, which=mpl.rcParams['axes.grid.which'],\n\u001b[1;32m   1112\u001b[0m                   axis=mpl.rcParams['axes.grid.axis'])\n",
            "\u001b[0;32m~/.local/share/virtualenvs/dy-cnns-BTFORRN_/lib64/python3.6/site-packages/matplotlib/axes/_base.py\u001b[0m in \u001b[0;36mgrid\u001b[0;34m(self, b, which, axis, **kwargs)\u001b[0m\n\u001b[1;32m   2888\u001b[0m         \u001b[0mcbook\u001b[0m\u001b[0;34m.\u001b[0m\u001b[0m_check_in_list\u001b[0m\u001b[0;34m(\u001b[0m\u001b[0;34m[\u001b[0m\u001b[0;34m'x'\u001b[0m\u001b[0;34m,\u001b[0m \u001b[0;34m'y'\u001b[0m\u001b[0;34m,\u001b[0m \u001b[0;34m'both'\u001b[0m\u001b[0;34m]\u001b[0m\u001b[0;34m,\u001b[0m \u001b[0maxis\u001b[0m\u001b[0;34m=\u001b[0m\u001b[0maxis\u001b[0m\u001b[0;34m)\u001b[0m\u001b[0;34m\u001b[0m\u001b[0;34m\u001b[0m\u001b[0m\n\u001b[1;32m   2889\u001b[0m         \u001b[0;32mif\u001b[0m \u001b[0maxis\u001b[0m \u001b[0;32min\u001b[0m \u001b[0;34m[\u001b[0m\u001b[0;34m'x'\u001b[0m\u001b[0;34m,\u001b[0m \u001b[0;34m'both'\u001b[0m\u001b[0;34m]\u001b[0m\u001b[0;34m:\u001b[0m\u001b[0;34m\u001b[0m\u001b[0;34m\u001b[0m\u001b[0m\n\u001b[0;32m-> 2890\u001b[0;31m             \u001b[0mself\u001b[0m\u001b[0;34m.\u001b[0m\u001b[0mxaxis\u001b[0m\u001b[0;34m.\u001b[0m\u001b[0mgrid\u001b[0m\u001b[0;34m(\u001b[0m\u001b[0mb\u001b[0m\u001b[0;34m,\u001b[0m \u001b[0mwhich\u001b[0m\u001b[0;34m=\u001b[0m\u001b[0mwhich\u001b[0m\u001b[0;34m,\u001b[0m \u001b[0;34m**\u001b[0m\u001b[0mkwargs\u001b[0m\u001b[0;34m)\u001b[0m\u001b[0;34m\u001b[0m\u001b[0;34m\u001b[0m\u001b[0m\n\u001b[0m\u001b[1;32m   2891\u001b[0m         \u001b[0;32mif\u001b[0m \u001b[0maxis\u001b[0m \u001b[0;32min\u001b[0m \u001b[0;34m[\u001b[0m\u001b[0;34m'y'\u001b[0m\u001b[0;34m,\u001b[0m \u001b[0;34m'both'\u001b[0m\u001b[0;34m]\u001b[0m\u001b[0;34m:\u001b[0m\u001b[0;34m\u001b[0m\u001b[0;34m\u001b[0m\u001b[0m\n\u001b[1;32m   2892\u001b[0m             \u001b[0mself\u001b[0m\u001b[0;34m.\u001b[0m\u001b[0myaxis\u001b[0m\u001b[0;34m.\u001b[0m\u001b[0mgrid\u001b[0m\u001b[0;34m(\u001b[0m\u001b[0mb\u001b[0m\u001b[0;34m,\u001b[0m \u001b[0mwhich\u001b[0m\u001b[0;34m=\u001b[0m\u001b[0mwhich\u001b[0m\u001b[0;34m,\u001b[0m \u001b[0;34m**\u001b[0m\u001b[0mkwargs\u001b[0m\u001b[0;34m)\u001b[0m\u001b[0;34m\u001b[0m\u001b[0;34m\u001b[0m\u001b[0m\n",
            "\u001b[0;32m~/.local/share/virtualenvs/dy-cnns-BTFORRN_/lib64/python3.6/site-packages/matplotlib/axis.py\u001b[0m in \u001b[0;36mgrid\u001b[0;34m(self, b, which, **kwargs)\u001b[0m\n\u001b[1;32m   1449\u001b[0m             \u001b[0;32melif\u001b[0m \u001b[0mb\u001b[0m \u001b[0;32mis\u001b[0m \u001b[0;32mnot\u001b[0m \u001b[0;32mNone\u001b[0m\u001b[0;34m:\u001b[0m\u001b[0;34m\u001b[0m\u001b[0;34m\u001b[0m\u001b[0m\n\u001b[1;32m   1450\u001b[0m                 \u001b[0mgridkw\u001b[0m\u001b[0;34m[\u001b[0m\u001b[0;34m'gridOn'\u001b[0m\u001b[0;34m]\u001b[0m \u001b[0;34m=\u001b[0m \u001b[0mb\u001b[0m\u001b[0;34m\u001b[0m\u001b[0;34m\u001b[0m\u001b[0m\n\u001b[0;32m-> 1451\u001b[0;31m             \u001b[0mself\u001b[0m\u001b[0;34m.\u001b[0m\u001b[0mset_tick_params\u001b[0m\u001b[0;34m(\u001b[0m\u001b[0mwhich\u001b[0m\u001b[0;34m=\u001b[0m\u001b[0;34m'major'\u001b[0m\u001b[0;34m,\u001b[0m \u001b[0;34m**\u001b[0m\u001b[0mgridkw\u001b[0m\u001b[0;34m)\u001b[0m\u001b[0;34m\u001b[0m\u001b[0;34m\u001b[0m\u001b[0m\n\u001b[0m\u001b[1;32m   1452\u001b[0m         \u001b[0mself\u001b[0m\u001b[0;34m.\u001b[0m\u001b[0mstale\u001b[0m \u001b[0;34m=\u001b[0m \u001b[0;32mTrue\u001b[0m\u001b[0;34m\u001b[0m\u001b[0;34m\u001b[0m\u001b[0m\n\u001b[1;32m   1453\u001b[0m \u001b[0;34m\u001b[0m\u001b[0m\n",
            "\u001b[0;32m~/.local/share/virtualenvs/dy-cnns-BTFORRN_/lib64/python3.6/site-packages/matplotlib/axis.py\u001b[0m in \u001b[0;36mset_tick_params\u001b[0;34m(self, which, reset, **kw)\u001b[0m\n\u001b[1;32m    836\u001b[0m             \u001b[0;32mif\u001b[0m \u001b[0mwhich\u001b[0m \u001b[0;32min\u001b[0m \u001b[0;34m[\u001b[0m\u001b[0;34m'major'\u001b[0m\u001b[0;34m,\u001b[0m \u001b[0;34m'both'\u001b[0m\u001b[0;34m]\u001b[0m\u001b[0;34m:\u001b[0m\u001b[0;34m\u001b[0m\u001b[0;34m\u001b[0m\u001b[0m\n\u001b[1;32m    837\u001b[0m                 \u001b[0mself\u001b[0m\u001b[0;34m.\u001b[0m\u001b[0m_major_tick_kw\u001b[0m\u001b[0;34m.\u001b[0m\u001b[0mupdate\u001b[0m\u001b[0;34m(\u001b[0m\u001b[0mkwtrans\u001b[0m\u001b[0;34m)\u001b[0m\u001b[0;34m\u001b[0m\u001b[0;34m\u001b[0m\u001b[0m\n\u001b[0;32m--> 838\u001b[0;31m                 \u001b[0;32mfor\u001b[0m \u001b[0mtick\u001b[0m \u001b[0;32min\u001b[0m \u001b[0mself\u001b[0m\u001b[0;34m.\u001b[0m\u001b[0mmajorTicks\u001b[0m\u001b[0;34m:\u001b[0m\u001b[0;34m\u001b[0m\u001b[0;34m\u001b[0m\u001b[0m\n\u001b[0m\u001b[1;32m    839\u001b[0m                     \u001b[0mtick\u001b[0m\u001b[0;34m.\u001b[0m\u001b[0m_apply_params\u001b[0m\u001b[0;34m(\u001b[0m\u001b[0;34m**\u001b[0m\u001b[0mkwtrans\u001b[0m\u001b[0;34m)\u001b[0m\u001b[0;34m\u001b[0m\u001b[0;34m\u001b[0m\u001b[0m\n\u001b[1;32m    840\u001b[0m             \u001b[0;32mif\u001b[0m \u001b[0mwhich\u001b[0m \u001b[0;32min\u001b[0m \u001b[0;34m[\u001b[0m\u001b[0;34m'minor'\u001b[0m\u001b[0;34m,\u001b[0m \u001b[0;34m'both'\u001b[0m\u001b[0;34m]\u001b[0m\u001b[0;34m:\u001b[0m\u001b[0;34m\u001b[0m\u001b[0;34m\u001b[0m\u001b[0m\n",
            "\u001b[0;32m~/.local/share/virtualenvs/dy-cnns-BTFORRN_/lib64/python3.6/site-packages/matplotlib/axis.py\u001b[0m in \u001b[0;36m__get__\u001b[0;34m(self, instance, cls)\u001b[0m\n\u001b[1;32m    617\u001b[0m                 \u001b[0minstance\u001b[0m\u001b[0;34m.\u001b[0m\u001b[0mmajorTicks\u001b[0m \u001b[0;34m=\u001b[0m \u001b[0;34m[\u001b[0m\u001b[0;34m]\u001b[0m\u001b[0;34m\u001b[0m\u001b[0;34m\u001b[0m\u001b[0m\n\u001b[1;32m    618\u001b[0m                 \u001b[0mtick\u001b[0m \u001b[0;34m=\u001b[0m \u001b[0minstance\u001b[0m\u001b[0;34m.\u001b[0m\u001b[0m_get_tick\u001b[0m\u001b[0;34m(\u001b[0m\u001b[0mmajor\u001b[0m\u001b[0;34m=\u001b[0m\u001b[0;32mTrue\u001b[0m\u001b[0;34m)\u001b[0m\u001b[0;34m\u001b[0m\u001b[0;34m\u001b[0m\u001b[0m\n\u001b[0;32m--> 619\u001b[0;31m                 \u001b[0minstance\u001b[0m\u001b[0;34m.\u001b[0m\u001b[0mmajorTicks\u001b[0m\u001b[0;34m.\u001b[0m\u001b[0mappend\u001b[0m\u001b[0;34m(\u001b[0m\u001b[0mtick\u001b[0m\u001b[0;34m)\u001b[0m\u001b[0;34m\u001b[0m\u001b[0;34m\u001b[0m\u001b[0m\n\u001b[0m\u001b[1;32m    620\u001b[0m                 \u001b[0;32mreturn\u001b[0m \u001b[0minstance\u001b[0m\u001b[0;34m.\u001b[0m\u001b[0mmajorTicks\u001b[0m\u001b[0;34m\u001b[0m\u001b[0;34m\u001b[0m\u001b[0m\n\u001b[1;32m    621\u001b[0m             \u001b[0;32melse\u001b[0m\u001b[0;34m:\u001b[0m\u001b[0;34m\u001b[0m\u001b[0;34m\u001b[0m\u001b[0m\n",
            "\u001b[0;32m~/.local/share/virtualenvs/dy-cnns-BTFORRN_/lib64/python3.6/site-packages/matplotlib/axis.py\u001b[0m in \u001b[0;36m__get__\u001b[0;34m(self, instance, cls)\u001b[0m\n\u001b[1;32m    616\u001b[0m             \u001b[0;32mif\u001b[0m \u001b[0mself\u001b[0m\u001b[0;34m.\u001b[0m\u001b[0m_major\u001b[0m\u001b[0;34m:\u001b[0m\u001b[0;34m\u001b[0m\u001b[0;34m\u001b[0m\u001b[0m\n\u001b[1;32m    617\u001b[0m                 \u001b[0minstance\u001b[0m\u001b[0;34m.\u001b[0m\u001b[0mmajorTicks\u001b[0m \u001b[0;34m=\u001b[0m \u001b[0;34m[\u001b[0m\u001b[0;34m]\u001b[0m\u001b[0;34m\u001b[0m\u001b[0;34m\u001b[0m\u001b[0m\n\u001b[0;32m--> 618\u001b[0;31m                 \u001b[0mtick\u001b[0m \u001b[0;34m=\u001b[0m \u001b[0minstance\u001b[0m\u001b[0;34m.\u001b[0m\u001b[0m_get_tick\u001b[0m\u001b[0;34m(\u001b[0m\u001b[0mmajor\u001b[0m\u001b[0;34m=\u001b[0m\u001b[0;32mTrue\u001b[0m\u001b[0;34m)\u001b[0m\u001b[0;34m\u001b[0m\u001b[0;34m\u001b[0m\u001b[0m\n\u001b[0m\u001b[1;32m    619\u001b[0m                 \u001b[0minstance\u001b[0m\u001b[0;34m.\u001b[0m\u001b[0mmajorTicks\u001b[0m\u001b[0;34m.\u001b[0m\u001b[0mappend\u001b[0m\u001b[0;34m(\u001b[0m\u001b[0mtick\u001b[0m\u001b[0;34m)\u001b[0m\u001b[0;34m\u001b[0m\u001b[0;34m\u001b[0m\u001b[0m\n\u001b[1;32m    620\u001b[0m                 \u001b[0;32mreturn\u001b[0m \u001b[0minstance\u001b[0m\u001b[0;34m.\u001b[0m\u001b[0mmajorTicks\u001b[0m\u001b[0;34m\u001b[0m\u001b[0;34m\u001b[0m\u001b[0m\n",
            "\u001b[0;32m~/.local/share/virtualenvs/dy-cnns-BTFORRN_/lib64/python3.6/site-packages/matplotlib/axis.py\u001b[0m in \u001b[0;36m_get_tick\u001b[0;34m(self, major)\u001b[0m\n\u001b[1;32m   2014\u001b[0m         \u001b[0;32melse\u001b[0m\u001b[0;34m:\u001b[0m\u001b[0;34m\u001b[0m\u001b[0;34m\u001b[0m\u001b[0m\n\u001b[1;32m   2015\u001b[0m             \u001b[0mtick_kw\u001b[0m \u001b[0;34m=\u001b[0m \u001b[0mself\u001b[0m\u001b[0;34m.\u001b[0m\u001b[0m_minor_tick_kw\u001b[0m\u001b[0;34m\u001b[0m\u001b[0;34m\u001b[0m\u001b[0m\n\u001b[0;32m-> 2016\u001b[0;31m         \u001b[0;32mreturn\u001b[0m \u001b[0mXTick\u001b[0m\u001b[0;34m(\u001b[0m\u001b[0mself\u001b[0m\u001b[0;34m.\u001b[0m\u001b[0maxes\u001b[0m\u001b[0;34m,\u001b[0m \u001b[0;36m0\u001b[0m\u001b[0;34m,\u001b[0m \u001b[0mmajor\u001b[0m\u001b[0;34m=\u001b[0m\u001b[0mmajor\u001b[0m\u001b[0;34m,\u001b[0m \u001b[0;34m**\u001b[0m\u001b[0mtick_kw\u001b[0m\u001b[0;34m)\u001b[0m\u001b[0;34m\u001b[0m\u001b[0;34m\u001b[0m\u001b[0m\n\u001b[0m\u001b[1;32m   2017\u001b[0m \u001b[0;34m\u001b[0m\u001b[0m\n\u001b[1;32m   2018\u001b[0m     \u001b[0;32mdef\u001b[0m \u001b[0mset_label_position\u001b[0m\u001b[0;34m(\u001b[0m\u001b[0mself\u001b[0m\u001b[0;34m,\u001b[0m \u001b[0mposition\u001b[0m\u001b[0;34m)\u001b[0m\u001b[0;34m:\u001b[0m\u001b[0;34m\u001b[0m\u001b[0;34m\u001b[0m\u001b[0m\n",
            "\u001b[0;32m~/.local/share/virtualenvs/dy-cnns-BTFORRN_/lib64/python3.6/site-packages/matplotlib/axis.py\u001b[0m in \u001b[0;36m__init__\u001b[0;34m(self, *args, **kwargs)\u001b[0m\n\u001b[1;32m    432\u001b[0m         )\n\u001b[1;32m    433\u001b[0m         \u001b[0;31m# the y loc is 3 points below the min of y axis\u001b[0m\u001b[0;34m\u001b[0m\u001b[0;34m\u001b[0m\u001b[0;34m\u001b[0m\u001b[0m\n\u001b[0;32m--> 434\u001b[0;31m         \u001b[0mtrans\u001b[0m\u001b[0;34m,\u001b[0m \u001b[0mva\u001b[0m\u001b[0;34m,\u001b[0m \u001b[0mha\u001b[0m \u001b[0;34m=\u001b[0m \u001b[0mself\u001b[0m\u001b[0;34m.\u001b[0m\u001b[0m_get_text1_transform\u001b[0m\u001b[0;34m(\u001b[0m\u001b[0;34m)\u001b[0m\u001b[0;34m\u001b[0m\u001b[0;34m\u001b[0m\u001b[0m\n\u001b[0m\u001b[1;32m    435\u001b[0m         self.label1.set(\n\u001b[1;32m    436\u001b[0m             \u001b[0mx\u001b[0m\u001b[0;34m=\u001b[0m\u001b[0;36m0\u001b[0m\u001b[0;34m,\u001b[0m \u001b[0my\u001b[0m\u001b[0;34m=\u001b[0m\u001b[0;36m0\u001b[0m\u001b[0;34m,\u001b[0m\u001b[0;34m\u001b[0m\u001b[0;34m\u001b[0m\u001b[0m\n",
            "\u001b[0;32m~/.local/share/virtualenvs/dy-cnns-BTFORRN_/lib64/python3.6/site-packages/matplotlib/axis.py\u001b[0m in \u001b[0;36m_get_text1_transform\u001b[0;34m(self)\u001b[0m\n\u001b[1;32m    444\u001b[0m \u001b[0;34m\u001b[0m\u001b[0m\n\u001b[1;32m    445\u001b[0m     \u001b[0;32mdef\u001b[0m \u001b[0m_get_text1_transform\u001b[0m\u001b[0;34m(\u001b[0m\u001b[0mself\u001b[0m\u001b[0;34m)\u001b[0m\u001b[0;34m:\u001b[0m\u001b[0;34m\u001b[0m\u001b[0;34m\u001b[0m\u001b[0m\n\u001b[0;32m--> 446\u001b[0;31m         \u001b[0;32mreturn\u001b[0m \u001b[0mself\u001b[0m\u001b[0;34m.\u001b[0m\u001b[0maxes\u001b[0m\u001b[0;34m.\u001b[0m\u001b[0mget_xaxis_text1_transform\u001b[0m\u001b[0;34m(\u001b[0m\u001b[0mself\u001b[0m\u001b[0;34m.\u001b[0m\u001b[0m_pad\u001b[0m\u001b[0;34m)\u001b[0m\u001b[0;34m\u001b[0m\u001b[0;34m\u001b[0m\u001b[0m\n\u001b[0m\u001b[1;32m    447\u001b[0m \u001b[0;34m\u001b[0m\u001b[0m\n\u001b[1;32m    448\u001b[0m     \u001b[0;32mdef\u001b[0m \u001b[0m_get_text2_transform\u001b[0m\u001b[0;34m(\u001b[0m\u001b[0mself\u001b[0m\u001b[0;34m)\u001b[0m\u001b[0;34m:\u001b[0m\u001b[0;34m\u001b[0m\u001b[0;34m\u001b[0m\u001b[0m\n",
            "\u001b[0;32m~/.local/share/virtualenvs/dy-cnns-BTFORRN_/lib64/python3.6/site-packages/matplotlib/axes/_base.py\u001b[0m in \u001b[0;36mget_xaxis_text1_transform\u001b[0;34m(self, pad_points)\u001b[0m\n\u001b[1;32m    745\u001b[0m         return (self.get_xaxis_transform(which='tick1') +\n\u001b[1;32m    746\u001b[0m                 mtransforms.ScaledTranslation(0, -1 * pad_points / 72,\n\u001b[0;32m--> 747\u001b[0;31m                                               self.figure.dpi_scale_trans),\n\u001b[0m\u001b[1;32m    748\u001b[0m                 \"top\", labels_align)\n\u001b[1;32m    749\u001b[0m \u001b[0;34m\u001b[0m\u001b[0m\n",
            "\u001b[0;32m~/.local/share/virtualenvs/dy-cnns-BTFORRN_/lib64/python3.6/site-packages/matplotlib/transforms.py\u001b[0m in \u001b[0;36m__init__\u001b[0;34m(self, xt, yt, scale_trans, **kwargs)\u001b[0m\n\u001b[1;32m   2601\u001b[0m     \u001b[0mhave\u001b[0m \u001b[0mbeen\u001b[0m \u001b[0mtransformed\u001b[0m \u001b[0mby\u001b[0m \u001b[0;34m*\u001b[0m\u001b[0mscale_trans\u001b[0m\u001b[0;34m*\u001b[0m\u001b[0;34m.\u001b[0m\u001b[0;34m\u001b[0m\u001b[0;34m\u001b[0m\u001b[0m\n\u001b[1;32m   2602\u001b[0m     \"\"\"\n\u001b[0;32m-> 2603\u001b[0;31m     \u001b[0;32mdef\u001b[0m \u001b[0m__init__\u001b[0m\u001b[0;34m(\u001b[0m\u001b[0mself\u001b[0m\u001b[0;34m,\u001b[0m \u001b[0mxt\u001b[0m\u001b[0;34m,\u001b[0m \u001b[0myt\u001b[0m\u001b[0;34m,\u001b[0m \u001b[0mscale_trans\u001b[0m\u001b[0;34m,\u001b[0m \u001b[0;34m**\u001b[0m\u001b[0mkwargs\u001b[0m\u001b[0;34m)\u001b[0m\u001b[0;34m:\u001b[0m\u001b[0;34m\u001b[0m\u001b[0;34m\u001b[0m\u001b[0m\n\u001b[0m\u001b[1;32m   2604\u001b[0m         \u001b[0mAffine2DBase\u001b[0m\u001b[0;34m.\u001b[0m\u001b[0m__init__\u001b[0m\u001b[0;34m(\u001b[0m\u001b[0mself\u001b[0m\u001b[0;34m,\u001b[0m \u001b[0;34m**\u001b[0m\u001b[0mkwargs\u001b[0m\u001b[0;34m)\u001b[0m\u001b[0;34m\u001b[0m\u001b[0;34m\u001b[0m\u001b[0m\n\u001b[1;32m   2605\u001b[0m         \u001b[0mself\u001b[0m\u001b[0;34m.\u001b[0m\u001b[0m_t\u001b[0m \u001b[0;34m=\u001b[0m \u001b[0;34m(\u001b[0m\u001b[0mxt\u001b[0m\u001b[0;34m,\u001b[0m \u001b[0myt\u001b[0m\u001b[0;34m)\u001b[0m\u001b[0;34m\u001b[0m\u001b[0;34m\u001b[0m\u001b[0m\n",
            "\u001b[0;31mKeyboardInterrupt\u001b[0m: "
          ]
        },
        {
          "data": {
            "text/plain": [
              "<Figure size 432x288 with 0 Axes>"
            ]
          },
          "metadata": {},
          "output_type": "display_data"
        }
      ],
      "source": [
        "# Validate on the validation dataset\n",
        "\n",
        "# switch to eval mode\n",
        "net.eval()\n",
        "\n",
        "# this help you compute the validation accuracy\n",
        "total_examples = 0\n",
        "correct_examples = 0\n",
        "\n",
        "val_loss = 0 # again, track the validation loss if you want\n",
        "\n",
        "# disable gradient during validation, which can save GPU memory\n",
        "with torch.no_grad():\n",
        "    for batch_idx, (inputs, targets) in enumerate(val_loader):\n",
        "        ####################################\n",
        "        # your code here\n",
        "        # copy inputs to device\n",
        "        inputs = inputs.to(device)\n",
        "        targets = targets.to(device)\n",
        "        \n",
        "        # compute the output and loss\n",
        "        outputs = net(inputs)\n",
        "        plot_dist(outputs)\n",
        "        if batch_idx > 0:\n",
        "            break\n",
        "        loss = criterion(outputs, targets)\n",
        "        \n",
        "        # count the number of correctly predicted samples in the current batch\n",
        "        _, predicted = outputs.max(1)\n",
        "        total_examples += predicted.size(0)\n",
        "        correct_examples += predicted.eq(targets).sum().item()\n",
        "        val_loss += loss\n",
        "        ####################################\n",
        "\n",
        "avg_loss = val_loss / len(val_loader)\n",
        "avg_acc = correct_examples / total_examples\n",
        "print(\"Validation loss: %.4f, Validation accuracy: %.4f\" % (avg_loss, avg_acc))\n",
        "    "
      ]
    },
    {
      "cell_type": "code",
      "execution_count": null,
      "metadata": {},
      "outputs": [],
      "source": []
    }
  ],
  "metadata": {
    "anaconda-cloud": {},
    "kernelspec": {
      "display_name": "Python 3",
      "language": "python",
      "name": "python3"
    },
    "language_info": {
      "codemirror_mode": {
        "name": "ipython",
        "version": 3
      },
      "file_extension": ".py",
      "mimetype": "text/x-python",
      "name": "python",
      "nbconvert_exporter": "python",
      "pygments_lexer": "ipython3",
      "version": "3.6.8"
    }
  },
  "nbformat": 4,
  "nbformat_minor": 4
}
